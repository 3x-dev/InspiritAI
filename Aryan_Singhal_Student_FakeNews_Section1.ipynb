{
  "nbformat": 4,
  "nbformat_minor": 0,
  "metadata": {
    "colab": {
      "provenance": [],
      "collapsed_sections": [
        "fj3IADlNGjUg",
        "K81dzeKOB8dC",
        "RT94ahwalvYZ",
        "C1RGA1hQn5q3",
        "TflU0c-puxNo"
      ]
    },
    "language_info": {
      "codemirror_mode": {
        "name": "ipython",
        "version": 3
      },
      "file_extension": ".py",
      "mimetype": "text/x-python",
      "name": "python",
      "nbconvert_exporter": "python",
      "pygments_lexer": "ipython3",
      "version": "3.7.3"
    },
    "kernelspec": {
      "display_name": "Python 3",
      "language": "python",
      "name": "python3"
    }
  },
  "cells": [
    {
      "cell_type": "markdown",
      "metadata": {
        "id": "ATa2miB-8VIW"
      },
      "source": [
        "# Section 1: Introduction to Fake News Classification\n"
      ]
    },
    {
      "cell_type": "markdown",
      "metadata": {
        "id": "p6yXc9Z2KMGy"
      },
      "source": [
        "In this notebook we'll be:\n",
        "1.   Exploring HTML and our Data\n",
        "2.   Understanding Word Frequencies and Fake vs. Real Fractions\n",
        "\n"
      ]
    },
    {
      "cell_type": "code",
      "metadata": {
        "id": "6qPRfrpe8NcU",
        "colab": {
          "base_uri": "https://localhost:8080/"
        },
        "outputId": "8fa7b040-cf83-4744-a1dd-cb7cf2dd3a6b"
      },
      "source": [
        "#@title Run this to load your data { display-mode: \"form\" }\n",
        "import os\n",
        "from bs4 import BeautifulSoup as bs\n",
        "import pickle\n",
        "\n",
        "import requests\n",
        "import zipfile\n",
        "import io\n",
        "\n",
        "# Download class resources...\n",
        "\n",
        "# -O is param for wget\n",
        "!wget -O data.zip 'https://storage.googleapis.com/inspirit-ai-data-bucket-1/Data/AI%20Scholars/Sessions%206%20-%2010%20(Projects)/Project%20-%20Fake%20News%20Detection/inspirit_fake_news_resources%20(1).zip'\n",
        "!unzip data.zip\n",
        "\n",
        "basepath = '.'"
      ],
      "execution_count": null,
      "outputs": [
        {
          "output_type": "stream",
          "name": "stdout",
          "text": [
            "--2023-06-27 03:47:12--  https://storage.googleapis.com/inspirit-ai-data-bucket-1/Data/AI%20Scholars/Sessions%206%20-%2010%20(Projects)/Project%20-%20Fake%20News%20Detection/inspirit_fake_news_resources%20(1).zip\n",
            "Resolving storage.googleapis.com (storage.googleapis.com)... 172.253.62.128, 172.253.115.128, 172.253.122.128, ...\n",
            "Connecting to storage.googleapis.com (storage.googleapis.com)|172.253.62.128|:443... connected.\n",
            "HTTP request sent, awaiting response... 200 OK\n",
            "Length: 109422100 (104M) [application/zip]\n",
            "Saving to: ‘data.zip’\n",
            "\n",
            "data.zip            100%[===================>] 104.35M   158MB/s    in 0.7s    \n",
            "\n",
            "2023-06-27 03:47:13 (158 MB/s) - ‘data.zip’ saved [109422100/109422100]\n",
            "\n",
            "Archive:  data.zip\n",
            "  inflating: train_val_data.pkl      \n",
            "  inflating: test_data.pkl           \n"
          ]
        }
      ]
    },
    {
      "cell_type": "markdown",
      "metadata": {
        "id": "fj3IADlNGjUg"
      },
      "source": [
        "## Anatomy of a (Fake) News Website\n",
        "\n",
        "Have you ever wondered how websites like *google.com* and *nytimes.com* work under the hood? Using the internet every day, it is easy to forget how magical even the most mundane web browsing experiences are. Consider, for example, this article on the New York Times:\n",
        "\n",
        "![NYTimes Article](https://www.niemanlab.org/images/ochs-nytimes-article-page.png)\n",
        "\n",
        "\n",
        "How does the browser know to show the title of the article near the top of the page? How does it know that the word \"Art & Design\" should be left-centered and gray-colored? How does it know where to find the image to display?\n",
        "\n",
        "All of these questions can be answered by probing through the HTML of a webpage. HTML is a simple markup language that augments text with the structure you'd expect from a webpage. It's the language that provides the structure for every webpage you see. Here's an example of an HTML document for a simple webpage.\n",
        "\n",
        "![HTML Example](https://miro.medium.com/max/498/1*5gJzummAqpBDGATo0fjU6Q.jpeg)\n",
        "\n",
        "### HTML in a Nutshell\n",
        "\n",
        "HTML is the standard markup language for creating Web pages.\n",
        "* HTML stands for Hyper Text Markup Language\n",
        "* HTML describes the structure of Web pages using markup\n",
        "* HTML elements are the building blocks of HTML pages\n",
        "* HTML elements are represented by tags\n",
        "* HTML tags label pieces of content such as \"heading\", \"paragraph\", \"table\", and so on\n",
        "* Browsers do not display the HTML tags, but use them to render the content of the page\n",
        "\n",
        "\n"
      ]
    },
    {
      "cell_type": "markdown",
      "metadata": {
        "id": "AuVevk6fBO1s"
      },
      "source": [
        "## Exercise 1 | HTML Warmup"
      ]
    },
    {
      "cell_type": "markdown",
      "metadata": {
        "id": "UFrVbdt-BTVJ"
      },
      "source": [
        "\n",
        "\n",
        "\n",
        "The best way to learn HTML is to type some of your own.\n",
        "1. Start by opening [this interactive environment](https://www.w3schools.com/html/tryit.asp?filename=tryhtml_default).\n",
        "2. Now change the text in the Header  tag and the Paragraph tag to make the screen on the right look like this. (*Hint make sure to hit the “Run” button)\n",
        "\n",
        " [![Screen-Shot-2019-06-10-at-8-49-53-AM.png](https://i.postimg.cc/DzKrZbL9/Screen-Shot-2019-06-10-at-8-49-53-AM.png)](https://postimg.cc/JsPDY0Tx)\n",
        "\n",
        "\n",
        "3. Now add another header tag underneath the paragraph tag to make the screen on the right look like this:\n",
        "\n",
        " [![Screen-Shot-2019-06-10-at-8-53-50-AM.png](https://i.postimg.cc/rwpm9ycD/Screen-Shot-2019-06-10-at-8-53-50-AM.png)](https://postimg.cc/KRdxG21b)\n",
        "\n",
        "\n",
        "Great! Now that you understand the fundamental structure of HTML let’s explore how real life web pages use it.\n",
        "\n",
        "Since we are going to be analyzing news websites, let’s get a look at what that their HTML looks like.\n",
        "\n",
        "1. Head over to the[ New York Times webpage. ](https://www.nytimes.com/)\n",
        "2. Next, right click on the page and hit on “View Selection” or “View Source” (Depends on your web browser). You should now see all the HTML source code for that page. You will see a lot of tags and text that you don’t know yet, that’s ok.\n",
        "3. Just by looking at the HTML, can you anticipate some challenges that might arise when trying to analyze this code? For example, how will we be able to write a program that can differentiate between a link and text?  \n",
        "4. Discuss 1-2 potential challenges that come to mind.\n",
        "\n",
        "\n",
        "\n"
      ]
    },
    {
      "cell_type": "markdown",
      "metadata": {
        "id": "K81dzeKOB8dC"
      },
      "source": [
        "## Problem Statement\n",
        "\n",
        "**Given the URL of a news website and its HTML, can we classify the news website as either fake or real?**"
      ]
    },
    {
      "cell_type": "markdown",
      "metadata": {
        "id": "uMvanqjEep6F"
      },
      "source": [
        "## Exercise 2 | Exploring the Data"
      ]
    },
    {
      "cell_type": "markdown",
      "metadata": {
        "id": "kyjlqYG3euBy"
      },
      "source": [
        "### Dataset\n",
        "\n",
        "Load the train and val in the below cell:\n"
      ]
    },
    {
      "cell_type": "code",
      "metadata": {
        "id": "0En5nk5pEc72",
        "colab": {
          "base_uri": "https://localhost:8080/"
        },
        "outputId": "74a324da-e637-47be-ddf4-dfc632076fbc"
      },
      "source": [
        "with open(os.path.join(basepath, 'train_val_data.pkl'), 'rb') as f:\n",
        "  train_data, val_data = pickle.load(f)\n",
        "\n",
        "print('Number of train examples:', len(train_data))\n",
        "print('Number of val examples:', len(val_data))\n",
        "\n",
        "print('Fraction of train examples that are fake:', len([datapoint for datapoint in train_data if datapoint[2] == 1]) / float(len(train_data)))\n",
        "print('Fraction of val examples that are fake:', len([datapoint for datapoint in val_data if datapoint[2] == 0]) / float(len(val_data)))"
      ],
      "execution_count": null,
      "outputs": [
        {
          "output_type": "stream",
          "name": "stdout",
          "text": [
            "Number of train examples: 2002\n",
            "Number of val examples: 309\n",
            "Fraction of train examples that are fake: 0.4775224775224775\n",
            "Fraction of val examples that are fake: 0.5436893203883495\n"
          ]
        }
      ]
    },
    {
      "cell_type": "code",
      "source": [
        "!pip install prettify"
      ],
      "metadata": {
        "colab": {
          "base_uri": "https://localhost:8080/"
        },
        "id": "NJCs8qEFrXtP",
        "outputId": "e432bc73-f73a-4b59-e8d5-320e34a11694"
      },
      "execution_count": null,
      "outputs": [
        {
          "output_type": "stream",
          "name": "stdout",
          "text": [
            "Looking in indexes: https://pypi.org/simple, https://us-python.pkg.dev/colab-wheels/public/simple/\n",
            "Collecting prettify\n",
            "  Downloading prettify-0.1.1.tar.gz (5.9 kB)\n",
            "  Preparing metadata (setup.py) ... \u001b[?25l\u001b[?25hdone\n",
            "Building wheels for collected packages: prettify\n",
            "  Building wheel for prettify (setup.py) ... \u001b[?25l\u001b[?25hdone\n",
            "  Created wheel for prettify: filename=prettify-0.1.1-py3-none-any.whl size=8400 sha256=a1ab54dca3415137a5405522f303d9656fa6f6954047fd8f3ad8a914dd9435c8\n",
            "  Stored in directory: /root/.cache/pip/wheels/45/13/df/13f534db64b793417ef2e46a62497b85209ad3a598d25b3a42\n",
            "Successfully built prettify\n",
            "Installing collected packages: prettify\n",
            "Successfully installed prettify-0.1.1\n"
          ]
        }
      ]
    },
    {
      "cell_type": "code",
      "source": [
        "import prettify\n",
        "\n",
        "print(train_data[2][1])"
      ],
      "metadata": {
        "id": "sKa6IyFHo9S0"
      },
      "execution_count": null,
      "outputs": []
    },
    {
      "cell_type": "markdown",
      "metadata": {
        "id": "L4yi_xDAEdTN"
      },
      "source": [
        "We can see that the number of examples for each portion of the data approximately matches the split above, and each portion has roughly 50% fake news websites. Now to explore what each data point looks like.\n",
        "\n",
        "###Changing The Example Index\n",
        "\n",
        "Spend ~15 minutes browsing through the data by changing `example_idx` below. You are able to see the URL, label (0 is real, 1 is fake), and part of the HTML for an example.\n",
        "\n",
        "Observe that each data point has three values: the URL, the HTML, and the binary (0 or 1) label. A label of \"1\" indicates that the website is a fake news website, and a label of \"0\" indicates that the website does not have fake news. See if you can spot some differences between examples with label 0 and examples with label 1, especially in their URLs! The HTML may be a bit difficult to read, since it is much longer, so don't worry about this."
      ]
    },
    {
      "cell_type": "code",
      "metadata": {
        "id": "JEi_NJeuIeBf",
        "colab": {
          "base_uri": "https://localhost:8080/"
        },
        "outputId": "acbef8aa-2ecd-4c43-952d-84b28ade759d"
      },
      "source": [
        "### YOUR CODE HERE ###\n",
        "example_idx = 700 # Change this!\n",
        "### END CODE HERE ###\n",
        "\n",
        "print('Number of values per data point: %d\\n' % len(train_data[0]))\n",
        "\n",
        "print('URL for chosen example:', train_data[example_idx][0])\n",
        "print('Label for chosen example:', train_data[example_idx][2])\n",
        "print('HTML for chosen example (first 1000 chars):\\n\\n', bs(train_data[example_idx][1]).prettify()[:1000])"
      ],
      "execution_count": null,
      "outputs": [
        {
          "output_type": "stream",
          "name": "stdout",
          "text": [
            "Number of values per data point: 3\n",
            "\n",
            "URL for chosen example: pravda.ru\n",
            "Label for chosen example: 1\n",
            "HTML for chosen example (first 1000 chars):\n",
            "\n",
            " <!DOCTYPE html>\n",
            "<html class=\"no-js\" lang=\"ru\" prefix=\"og: http://ogp.me/ns# fb: http://ogp.me/ns/fb# article: http://ogp.me/ns/article# profile: http://ogp.me/ns/profile#\">\n",
            " <head>\n",
            "  <meta charset=\"utf-8\"/>\n",
            "  <meta content=\"width=device-width, initial-scale=1\" name=\"viewport\"/>\n",
            "  <meta content=\"#0a305a\" name=\"theme-color\"/>\n",
            "  <meta content=\"IE=edge\" http-equiv=\"X-UA-Compatible\"/>\n",
            "  <meta content=\"13A7C501677A3DFC5E4A9747C802BFD9\" name=\"msvalidate.01\"/>\n",
            "  <meta content=\"wFXlfD8ory0rg75F2j4lTejg4irxSLwX500ilHKJwlY=\" name=\"verify-v1\"/>\n",
            "  <meta content=\"7367d7d828b17c1c\" name=\"yandex-verification\"/>\n",
            "  <meta content=\"0594f1f446fc2d3d\" name=\"y_key\"/>\n",
            "  <meta content=\"googled52d3af475e970bc\" name=\"google-site-verification\"/>\n",
            "  <meta content=\"994f40be6235d4ac25637a1b4455c522\" name=\"p:domain_verify\"/>\n",
            "  <link href=\"https://www.pravda.ru/export.xml\" rel=\"alternate\" title=\"ÐÐ½Ð°Ð»Ð¸ÑÐ¸ÐºÐ° Ð¸ Ð½Ð¾Ð²Ð¾ÑÑÐ¸ ÐÑÐ°Ð²Ð´Ð°.ÑÑ\" type=\"application/rss+xml\"/>\n",
            "  <link href=\"https://www.pravda.ru/expo\n"
          ]
        }
      ]
    },
    {
      "cell_type": "markdown",
      "metadata": {
        "id": "zhskZJ2BluPs"
      },
      "source": [
        "## Exercise 3 | Fake vs Real Fraction\n"
      ]
    },
    {
      "cell_type": "markdown",
      "metadata": {
        "id": "RT94ahwalvYZ"
      },
      "source": [
        "### Probing Hypotheses\n",
        "\n",
        "Browsing through the examples above, you might have gotten a few ideas for differences between real and fake news websites. For instance, you might have noticed that many fake news websites use domain name extensions other than \".com\", whereas this is less common for real news websites. So a possible hypothesis could be:\n",
        "\n",
        "####Websites with .com extensions are more likely to be real news.\n",
        "\n",
        "\n"
      ]
    },
    {
      "cell_type": "markdown",
      "metadata": {
        "id": "C1RGA1hQn5q3"
      },
      "source": [
        "### Real Fraction\n",
        "\n",
        "One simple way to quantify our observation would be to see what percentage of real websites use a certain extension (.com, .org, etc.). We call this number the real fraction.\n",
        "\n",
        "$$ \\text{Real Fraction} = \\frac{\\text{Number of real sites with a certain extension}}{\\text{Number of real sites}} $$\n",
        "\n",
        "### Fake Fraction\n",
        "\n",
        "Likewise, we can find what percentage of fake websites use a certain extension (.com, .org, etc). We call this number the Fake Fraction.\n",
        "\n",
        "$$ \\text{Fake Fraction} = \\frac{\\text{Number of fake sites with a certain extension}}{\\text{Number of fake sites}} $$\n",
        "\n",
        "### Fake/ Real Ratio\n",
        "\n",
        "How do we use the Fake Fraction and Real Fraction to test our hypothesis? We could divide them to form a ratio, which we can call the Fake vs Real Ratio. **This is a ratio of fractions!**\n",
        "  \n",
        "$$ \\text{Fake vs Real Ratio} = \\frac{\\text{Fake Fraction}}{\\text{Real Fraction}} $$\n",
        "\n",
        "\n",
        "\n"
      ]
    },
    {
      "cell_type": "markdown",
      "metadata": {
        "id": "TflU0c-puxNo"
      },
      "source": [
        "###Interpreting Ratios\n",
        "\n",
        "* If the ratio is less than 1, then we have reason to believe that **real** news websites disproportionately use \".com\" extensions,\n",
        "* If the ratio is greater than 1, then we have reason to believe that **fake** news websites disproportionately use \".com\" extensions,\n",
        "* If the ratio is 1, then both fake and real news websites use the .com extension about the same. This means that our hypothesis isn't very useful for separating out real and fake news websites, at least not by itself."
      ]
    },
    {
      "cell_type": "markdown",
      "metadata": {
        "id": "TjQsKyqW0c61"
      },
      "source": [
        "\n",
        "### Test in Code\n",
        "\n",
        "We define a function below that returns the real and fake fractions of the training data that satisfy a hypothesis. **In our code, our hypotheses will just be simple functions that take in a single data point and return \"True\" or \"False\".**\n",
        "\n",
        "For example, if our hypothesis is \"fake sites use the .net extension\", `hypothesis(datapoint)` will be `True` if `datapoint` uses the .net extension and `False` otherwise.\n",
        "\n",
        "\n",
        "Finish the below function that computes the real fraction. Update the `num_real_sites_with_hypothesis_true` and `num_real_sites` counters for each datapoint in the for loop!"
      ]
    },
    {
      "cell_type": "code",
      "metadata": {
        "id": "vwoPOh6JyQmb"
      },
      "source": [
        "def get_real_fraction(train_data, hypothesis):\n",
        "  num_real_sites_with_hypothesis_true = 0\n",
        "  num_real_sites = 0\n",
        "\n",
        "  for datapoint in train_data:\n",
        "    # Each datapoint has URL, HTML, label in that order.\n",
        "    label = datapoint[2]\n",
        "\n",
        "    if label == 0: # Real news\n",
        "      ### BEGIN CODE HERE ###\n",
        "      num_real_sites += 1\n",
        "      if(hypothesis(datapoint)):\n",
        "        num_real_sites_with_hypothesis_true += 1\n",
        "      pass # Replace the pass with your code!\n",
        "      ### END CODE HERE ###\n",
        "\n",
        "  return num_real_sites_with_hypothesis_true / num_real_sites"
      ],
      "execution_count": null,
      "outputs": []
    },
    {
      "cell_type": "markdown",
      "metadata": {
        "id": "xAnocWTbyEQG"
      },
      "source": [
        "Now, complete the `get_fake_fraction_function`!"
      ]
    },
    {
      "cell_type": "code",
      "metadata": {
        "id": "-LD59UnFyXpr"
      },
      "source": [
        "def get_fake_fraction(train_data, hypothesis):\n",
        "  num_fake_sites_with_hypothesis_fake = 0\n",
        "  num_fake_sites = 0\n",
        "\n",
        "  for datapoint in train_data:\n",
        "    # Each datapoint has URL, HTML, label in that order.\n",
        "    label = datapoint[2]\n",
        "\n",
        "    if label == 1: # Fake news\n",
        "      ### BEGIN CODE HERE ###\n",
        "      num_fake_sites += 1\n",
        "      if(hypothesis(datapoint)):\n",
        "        num_fake_sites_with_hypothesis_fake += 1\n",
        "      pass # Replace the pass with your code!\n",
        "      ### END CODE HERE ###\n",
        "\n",
        "  return num_fake_sites_with_hypothesis_fake / num_fake_sites"
      ],
      "execution_count": null,
      "outputs": []
    },
    {
      "cell_type": "markdown",
      "metadata": {
        "id": "kdGdviYEyLYe"
      },
      "source": [
        "Here is a handy function that gets both fractions using the code you just wrote :)"
      ]
    },
    {
      "cell_type": "code",
      "metadata": {
        "id": "6obeMhp9vcx-"
      },
      "source": [
        "def get_real_and_fake_fractions(train_data, hypothesis):\n",
        "  return get_real_fraction(train_data, hypothesis), get_fake_fraction(train_data, hypothesis)"
      ],
      "execution_count": null,
      "outputs": []
    },
    {
      "cell_type": "markdown",
      "metadata": {
        "id": "e5Qap-0M0c7E"
      },
      "source": [
        "Now, play around with this demonstration that asks you for a domain name extension, and prints out the real fraction, the fake fraction, and the ratio of fake fraction to real fraction. Make sure you understand what the code is doing! After running initially, try other values, like \".org\", \".co.uk\", and \".edu\"! The printed values will update automatically. Note that in some cases, the ratio may be \"Infinity\", if no real websites in the training data have that domain name."
      ]
    },
    {
      "cell_type": "code",
      "metadata": {
        "id": "Mfim5xsSNYAP",
        "colab": {
          "base_uri": "https://localhost:8080/"
        },
        "outputId": "19e874b2-08de-4e3a-d9a6-095d47c084e7"
      },
      "source": [
        "#@title Run this cell with your hypothesis domain name extension { run: \"auto\" }\n",
        "\n",
        "def domain_extension_hypothesis(datapoint):\n",
        "  extension = \".edu\" #@param {type:\"string\"}\n",
        "  url = datapoint[0]\n",
        "  return url.endswith(extension)\n",
        "\n",
        "real_fraction, fake_fraction = get_real_and_fake_fractions(train_data,\n",
        "                                                           domain_extension_hypothesis)\n",
        "\n",
        "print('Real fraction:', real_fraction * 100)\n",
        "print('Fake fraction:', fake_fraction * 100)\n",
        "\n",
        "# Simple logic for making the printed ratio more interpretable.\n",
        "def pretty_ratio(fake_fraction, real_fraction):\n",
        "    ratio = (fake_fraction / real_fraction) if real_fraction > 0 else 'Infinity'\n",
        "    if fake_fraction == real_fraction:\n",
        "      ratio = 1\n",
        "    return ratio\n",
        "\n",
        "print('Ratio fraction:', pretty_ratio(fake_fraction, real_fraction))"
      ],
      "execution_count": null,
      "outputs": [
        {
          "output_type": "stream",
          "name": "stdout",
          "text": [
            "Real fraction: 2.48565965583174\n",
            "Fake fraction: 0.0\n",
            "Ratio fraction: 0.0\n"
          ]
        }
      ]
    },
    {
      "cell_type": "code",
      "source": [
        "import pandas as pd\n",
        "train_df = pd.DataFrame(train_data)\n",
        "val_df = pd.DataFrame(val_data)"
      ],
      "metadata": {
        "id": "oAOjURF795CI"
      },
      "execution_count": null,
      "outputs": []
    },
    {
      "cell_type": "code",
      "source": [
        "train_df.head()"
      ],
      "metadata": {
        "colab": {
          "base_uri": "https://localhost:8080/",
          "height": 206
        },
        "id": "M3ltcRBe-O7s",
        "outputId": "59634082-8331-4570-b81e-4e5fc5c88116"
      },
      "execution_count": null,
      "outputs": [
        {
          "output_type": "execute_result",
          "data": {
            "text/plain": [
              "                  0                                                  1  2\n",
              "0           cnn.com  <!DOCTYPE html><html class=\"no-js\"><head><meta...  0\n",
              "1       banoosh.com  <!-- Server: P3PWFWD005 --><!DOCTYPE html><bod...  1\n",
              "2        people.com  <!doctype html>\\n<!--\\n        /((((((\\\\\\\\\\n==...  0\n",
              "3     money.cnn.com  <!DOCTYPE html><html class=\"no-js\"><head><meta...  0\n",
              "4  www.politico.com  <!DOCTYPE html>\\n<!--[if lt IE 7]><html lang=\"...  0"
            ],
            "text/html": [
              "\n",
              "  <div id=\"df-66456283-d25b-4d44-a2d4-bd75d834768f\">\n",
              "    <div class=\"colab-df-container\">\n",
              "      <div>\n",
              "<style scoped>\n",
              "    .dataframe tbody tr th:only-of-type {\n",
              "        vertical-align: middle;\n",
              "    }\n",
              "\n",
              "    .dataframe tbody tr th {\n",
              "        vertical-align: top;\n",
              "    }\n",
              "\n",
              "    .dataframe thead th {\n",
              "        text-align: right;\n",
              "    }\n",
              "</style>\n",
              "<table border=\"1\" class=\"dataframe\">\n",
              "  <thead>\n",
              "    <tr style=\"text-align: right;\">\n",
              "      <th></th>\n",
              "      <th>0</th>\n",
              "      <th>1</th>\n",
              "      <th>2</th>\n",
              "    </tr>\n",
              "  </thead>\n",
              "  <tbody>\n",
              "    <tr>\n",
              "      <th>0</th>\n",
              "      <td>cnn.com</td>\n",
              "      <td>&lt;!DOCTYPE html&gt;&lt;html class=\"no-js\"&gt;&lt;head&gt;&lt;meta...</td>\n",
              "      <td>0</td>\n",
              "    </tr>\n",
              "    <tr>\n",
              "      <th>1</th>\n",
              "      <td>banoosh.com</td>\n",
              "      <td>&lt;!-- Server: P3PWFWD005 --&gt;&lt;!DOCTYPE html&gt;&lt;bod...</td>\n",
              "      <td>1</td>\n",
              "    </tr>\n",
              "    <tr>\n",
              "      <th>2</th>\n",
              "      <td>people.com</td>\n",
              "      <td>&lt;!doctype html&gt;\\n&lt;!--\\n        /((((((\\\\\\\\\\n==...</td>\n",
              "      <td>0</td>\n",
              "    </tr>\n",
              "    <tr>\n",
              "      <th>3</th>\n",
              "      <td>money.cnn.com</td>\n",
              "      <td>&lt;!DOCTYPE html&gt;&lt;html class=\"no-js\"&gt;&lt;head&gt;&lt;meta...</td>\n",
              "      <td>0</td>\n",
              "    </tr>\n",
              "    <tr>\n",
              "      <th>4</th>\n",
              "      <td>www.politico.com</td>\n",
              "      <td>&lt;!DOCTYPE html&gt;\\n&lt;!--[if lt IE 7]&gt;&lt;html lang=\"...</td>\n",
              "      <td>0</td>\n",
              "    </tr>\n",
              "  </tbody>\n",
              "</table>\n",
              "</div>\n",
              "      <button class=\"colab-df-convert\" onclick=\"convertToInteractive('df-66456283-d25b-4d44-a2d4-bd75d834768f')\"\n",
              "              title=\"Convert this dataframe to an interactive table.\"\n",
              "              style=\"display:none;\">\n",
              "        \n",
              "  <svg xmlns=\"http://www.w3.org/2000/svg\" height=\"24px\"viewBox=\"0 0 24 24\"\n",
              "       width=\"24px\">\n",
              "    <path d=\"M0 0h24v24H0V0z\" fill=\"none\"/>\n",
              "    <path d=\"M18.56 5.44l.94 2.06.94-2.06 2.06-.94-2.06-.94-.94-2.06-.94 2.06-2.06.94zm-11 1L8.5 8.5l.94-2.06 2.06-.94-2.06-.94L8.5 2.5l-.94 2.06-2.06.94zm10 10l.94 2.06.94-2.06 2.06-.94-2.06-.94-.94-2.06-.94 2.06-2.06.94z\"/><path d=\"M17.41 7.96l-1.37-1.37c-.4-.4-.92-.59-1.43-.59-.52 0-1.04.2-1.43.59L10.3 9.45l-7.72 7.72c-.78.78-.78 2.05 0 2.83L4 21.41c.39.39.9.59 1.41.59.51 0 1.02-.2 1.41-.59l7.78-7.78 2.81-2.81c.8-.78.8-2.07 0-2.86zM5.41 20L4 18.59l7.72-7.72 1.47 1.35L5.41 20z\"/>\n",
              "  </svg>\n",
              "      </button>\n",
              "      \n",
              "  <style>\n",
              "    .colab-df-container {\n",
              "      display:flex;\n",
              "      flex-wrap:wrap;\n",
              "      gap: 12px;\n",
              "    }\n",
              "\n",
              "    .colab-df-convert {\n",
              "      background-color: #E8F0FE;\n",
              "      border: none;\n",
              "      border-radius: 50%;\n",
              "      cursor: pointer;\n",
              "      display: none;\n",
              "      fill: #1967D2;\n",
              "      height: 32px;\n",
              "      padding: 0 0 0 0;\n",
              "      width: 32px;\n",
              "    }\n",
              "\n",
              "    .colab-df-convert:hover {\n",
              "      background-color: #E2EBFA;\n",
              "      box-shadow: 0px 1px 2px rgba(60, 64, 67, 0.3), 0px 1px 3px 1px rgba(60, 64, 67, 0.15);\n",
              "      fill: #174EA6;\n",
              "    }\n",
              "\n",
              "    [theme=dark] .colab-df-convert {\n",
              "      background-color: #3B4455;\n",
              "      fill: #D2E3FC;\n",
              "    }\n",
              "\n",
              "    [theme=dark] .colab-df-convert:hover {\n",
              "      background-color: #434B5C;\n",
              "      box-shadow: 0px 1px 3px 1px rgba(0, 0, 0, 0.15);\n",
              "      filter: drop-shadow(0px 1px 2px rgba(0, 0, 0, 0.3));\n",
              "      fill: #FFFFFF;\n",
              "    }\n",
              "  </style>\n",
              "\n",
              "      <script>\n",
              "        const buttonEl =\n",
              "          document.querySelector('#df-66456283-d25b-4d44-a2d4-bd75d834768f button.colab-df-convert');\n",
              "        buttonEl.style.display =\n",
              "          google.colab.kernel.accessAllowed ? 'block' : 'none';\n",
              "\n",
              "        async function convertToInteractive(key) {\n",
              "          const element = document.querySelector('#df-66456283-d25b-4d44-a2d4-bd75d834768f');\n",
              "          const dataTable =\n",
              "            await google.colab.kernel.invokeFunction('convertToInteractive',\n",
              "                                                     [key], {});\n",
              "          if (!dataTable) return;\n",
              "\n",
              "          const docLinkHtml = 'Like what you see? Visit the ' +\n",
              "            '<a target=\"_blank\" href=https://colab.research.google.com/notebooks/data_table.ipynb>data table notebook</a>'\n",
              "            + ' to learn more about interactive tables.';\n",
              "          element.innerHTML = '';\n",
              "          dataTable['output_type'] = 'display_data';\n",
              "          await google.colab.output.renderOutput(dataTable, element);\n",
              "          const docLink = document.createElement('div');\n",
              "          docLink.innerHTML = docLinkHtml;\n",
              "          element.appendChild(docLink);\n",
              "        }\n",
              "      </script>\n",
              "    </div>\n",
              "  </div>\n",
              "  "
            ]
          },
          "metadata": {},
          "execution_count": 40
        }
      ]
    },
    {
      "cell_type": "code",
      "source": [
        "import pandas as pd\n",
        "\n",
        "# Extract domain endings using split() and str accessor\n",
        "train_df['Domain Ending'] = train_df[0].str.split('.').str[-1]\n",
        "\n",
        "# Get unique domain endings\n",
        "unique_endings = train_df['Domain Ending'].unique()\n",
        "\n",
        "# Print unique domain endings\n",
        "print(unique_endings)"
      ],
      "metadata": {
        "colab": {
          "base_uri": "https://localhost:8080/"
        },
        "id": "yQbqAwccEyrc",
        "outputId": "5bab4d5e-125d-413d-a0f3-a48fe160195d"
      },
      "execution_count": null,
      "outputs": [
        {
          "output_type": "stream",
          "name": "stdout",
          "text": [
            "['com' 'org' 'edu' 'net' 'co' 'nz' 'media' 'za' 'fr' 'is' 'tv' 'press'\n",
            " 'news' 'uk' 'info' 'com/' 'ca' 'agency' 'us' 'ru' 'su' 'biz' 'ir']\n"
          ]
        }
      ]
    },
    {
      "cell_type": "markdown",
      "metadata": {
        "id": "8UBEqbDinHN0"
      },
      "source": [
        "## Exercise 4:  Extreme Ratio Fractions (Infinity and Zero)\n",
        "\n",
        "Can you find a domain name extension that produces a ratio fraction with value Infinity? Can you find one that produces a ratio fraction with value 0 (~3 minutes)? Fill them in below."
      ]
    },
    {
      "cell_type": "code",
      "metadata": {
        "id": "EWjMqJOznHN1"
      },
      "source": [
        "### YOUR CODE HERE ###\n",
        "domain_name_extension_with_ratio_infinity = '.net'\n",
        "domain_name_extension_with_ratio_zero = '.edu'\n",
        "### END CODE HERE"
      ],
      "execution_count": null,
      "outputs": []
    },
    {
      "cell_type": "markdown",
      "metadata": {
        "id": "iiQKarqUy_Uu"
      },
      "source": [
        "Now, discuss the following questions with your group:\n",
        "\n",
        "* How do we interpret ratio fractions of 0?\n",
        "\n",
        "* How do we interpret ratio fractions of Infinity?\n",
        "\n",
        "* What might this tell us about our data?"
      ]
    },
    {
      "cell_type": "markdown",
      "metadata": {
        "id": "7gjwYNlEzBOW"
      },
      "source": [
        "## Exercise 5:  Word Frequency Method\n"
      ]
    },
    {
      "cell_type": "markdown",
      "metadata": {
        "id": "fI-Po2v3nHN3"
      },
      "source": [
        "One natural idea is counting whether the frequency of words in the HTML of a webpage is above a certain threshold. For example, given the word \"Clinton\" and a threshold of 3, does nytimes.com mention \"Clinton\" 3 times? Does infowars.com? This may tell us something about how useful the word \"Clinton\" is for telling us whether a website is fake or not.\n",
        "\n",
        "\n",
        "###Test in Code\n",
        "\n",
        "Now, code up the below hypothesis function that tests whether the count of a provided word is above a threshold and play with the resulting demo (~15 minutes). We have provided some starter code for you."
      ]
    },
    {
      "cell_type": "code",
      "metadata": {
        "id": "9dql1CTlnHN3",
        "colab": {
          "base_uri": "https://localhost:8080/"
        },
        "outputId": "17f546c6-7e33-4611-d77b-07890bbd8ee1"
      },
      "source": [
        "#@title Run this cell with a word and a threshold { run: \"auto\" }\n",
        "\n",
        "def get_count_from_html(html, hypothesis_word):\n",
        "    # Transform word to lowercase for consistent results.\n",
        "    return html.count(hypothesis_word.lower())\n",
        "\n",
        "def word_threshold_hypothesis(datapoint):\n",
        "  hypothesis_word = \"Trump\"  # The word you want to analyze\n",
        "  threshold = 5  # The minimum frequency threshold\n",
        "\n",
        "  # Transform HTML to lowercase for consistent results.\n",
        "  html = datapoint[1].lower()\n",
        "\n",
        "  # Get the count of the hypothesis word in the HTML\n",
        "  count = get_count_from_html(html, hypothesis_word)\n",
        "\n",
        "  # Check if the count is above the threshold\n",
        "  if count > threshold:\n",
        "      return True  # Consider it a real website\n",
        "  else:\n",
        "      return False  # Consider it a fake website\n",
        "\n",
        "real_fraction, fake_fraction = get_real_and_fake_fractions(train_data,\n",
        "                                                           word_threshold_hypothesis)\n",
        "\n",
        "print('Real fraction:', real_fraction)\n",
        "print('Fake fraction:', fake_fraction)\n",
        "\n",
        "print('Ratio fraction:', pretty_ratio(fake_fraction, real_fraction))"
      ],
      "execution_count": null,
      "outputs": [
        {
          "output_type": "stream",
          "name": "stdout",
          "text": [
            "Real fraction: 0.5936902485659655\n",
            "Fake fraction: 0.32426778242677823\n",
            "Ratio fraction: 0.5461901778074236\n"
          ]
        }
      ]
    },
    {
      "cell_type": "markdown",
      "metadata": {
        "id": "ypCqOW89OsY-"
      },
      "source": [
        "## Exercise 6:  Hypothesize\n",
        "\n"
      ]
    },
    {
      "cell_type": "markdown",
      "metadata": {
        "id": "3jk2-pWo6JFY"
      },
      "source": [
        "Once you have \"Clinton\" working with a threshold of 3, try other words, like \"Trump\", \"Obama\", \"Sports\", \"Finance\", and \"Opinion\".\n",
        "\n",
        "Discuss three interesting hypothesis word and threshold combination, with an explanation for why you think it is happening.\n",
        "\n",
        "Be prepared to share with the class!"
      ]
    },
    {
      "cell_type": "markdown",
      "metadata": {
        "id": "bgUhzQR55GqV"
      },
      "source": [
        "## Exercise 7 | Custom Hypothesis\n"
      ]
    },
    {
      "cell_type": "markdown",
      "metadata": {
        "id": "HNptThcx5IOw"
      },
      "source": [
        "Now, create your own custom hypotheses! All you should change is the hypothesis function (~20 minutes).\n",
        "\n",
        "Some ideas:\n",
        "* check whether websites contain certain HTML tags (e.g. \"\\<table>, \\<section>\"),\n",
        "* check whether websites contain certain words or phrases in the URL,\n",
        "* check whether websites are Wordpress blogs (hint: check whether they contain \"wp-content\" frequently)."
      ]
    },
    {
      "cell_type": "code",
      "metadata": {
        "id": "Y02Bmix5O8Ph"
      },
      "source": [
        "# Checking for specific HTML tags:\n",
        "\n",
        "def html_tag_hypothesis(datapoint):\n",
        "    tags_to_check = [\"<table>\", \"<section>\"]  # List of HTML tags to check\n",
        "\n",
        "    # Transform HTML to lowercase for consistent results.\n",
        "    html = datapoint[1].lower()\n",
        "\n",
        "    # Check if any of the tags are present in the HTML\n",
        "    for tag in tags_to_check:\n",
        "        if tag in html:\n",
        "            return True  # Consider it a real website\n",
        "\n",
        "    return False  # Consider it a fake website\n"
      ],
      "execution_count": null,
      "outputs": []
    },
    {
      "cell_type": "code",
      "source": [
        "# Checking for specific words or phrases in the URL:\n",
        "\n",
        "def url_phrase_hypothesis(datapoint):\n",
        "    phrases_to_check = [\"news\", \"blog\", \"review\"]  # List of phrases to check\n",
        "\n",
        "    # Transform URL to lowercase for consistent results.\n",
        "    url = datapoint[0].lower()\n",
        "\n",
        "    # Check if any of the phrases are present in the URL\n",
        "    for phrase in phrases_to_check:\n",
        "        if phrase in url:\n",
        "            return True  # Consider it a real website\n",
        "\n",
        "    return False  # Consider it a fake website"
      ],
      "metadata": {
        "id": "DlPoHXOnOCCl"
      },
      "execution_count": null,
      "outputs": []
    },
    {
      "cell_type": "code",
      "source": [
        "# Checking for Wordpress blogs based on \"wp-content\" occurrence:\n",
        "\n",
        "def wordpress_hypothesis(datapoint):\n",
        "    occurrence_threshold = 3  # Minimum occurrence threshold\n",
        "\n",
        "    # Transform HTML to lowercase for consistent results.\n",
        "    html = datapoint[1].lower()\n",
        "\n",
        "    # Count the occurrence of \"wp-content\" in the HTML\n",
        "    count = html.count(\"wp-content\")\n",
        "\n",
        "    # Check if the count is above the threshold\n",
        "    if count > occurrence_threshold:\n",
        "        return True  # Consider it a real website\n",
        "\n",
        "    return False  # Consider it a fake website\n"
      ],
      "metadata": {
        "id": "xisMhTbEOJU-"
      },
      "execution_count": null,
      "outputs": []
    },
    {
      "cell_type": "markdown",
      "metadata": {
        "id": "OJsHZUqBPBOY"
      },
      "source": [
        "Once you are done, list your most interesting hypotheses below and prepare to discuss with the class!\n",
        "\n",
        "Congratulations on completing this notebook! Next, we'll use the insights you just built up to build our baseline model."
      ]
    }
  ]
}