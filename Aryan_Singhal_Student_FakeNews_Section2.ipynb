{
  "nbformat": 4,
  "nbformat_minor": 0,
  "metadata": {
    "colab": {
      "provenance": []
    },
    "language_info": {
      "codemirror_mode": {
        "name": "ipython",
        "version": 3
      },
      "file_extension": ".py",
      "mimetype": "text/x-python",
      "name": "python",
      "nbconvert_exporter": "python",
      "pygments_lexer": "ipython3",
      "version": "3.7.3"
    },
    "kernelspec": {
      "display_name": "Python 3",
      "language": "python",
      "name": "python3"
    }
  },
  "cells": [
    {
      "cell_type": "markdown",
      "metadata": {
        "id": "gVgIxW-YPeQH"
      },
      "source": [
        "# Section 2: Creating a Baseline Model for Fake News Classification\n"
      ]
    },
    {
      "cell_type": "markdown",
      "metadata": {
        "id": "p6yXc9Z2KMGy"
      },
      "source": [
        "In this notebook we'll be:\n",
        "1.   Performing Feature Selection\n",
        "2.   Understanding Performance Metrics\n",
        "\n"
      ]
    },
    {
      "cell_type": "code",
      "metadata": {
        "id": "qT8bCpXGr2nO",
        "colab": {
          "base_uri": "https://localhost:8080/"
        },
        "outputId": "d694b1a5-2ba7-4083-e1fa-d8f868e2e6c9"
      },
      "source": [
        "#@title Run this code to get started\n",
        "import math\n",
        "import os\n",
        "import numpy as np\n",
        "\n",
        "import pickle # helps us load the data\n",
        "\n",
        "import requests, io, zipfile\n",
        "\n",
        "# Download class resources...\n",
        "!wget -O data.zip 'https://storage.googleapis.com/inspirit-ai-data-bucket-1/Data/AI%20Scholars/Sessions%206%20-%2010%20(Projects)/Project%20-%20Fake%20News%20Detection/inspirit_fake_news_resources%20(1).zip'\n",
        "!unzip data.zip\n",
        "\n",
        "basepath = '.'\n",
        "\n",
        "from sklearn.linear_model import LogisticRegression\n",
        "from sklearn.metrics import precision_recall_fscore_support\n",
        "from sklearn.metrics import accuracy_score\n",
        "from sklearn.metrics import confusion_matrix"
      ],
      "execution_count": null,
      "outputs": [
        {
          "output_type": "stream",
          "name": "stdout",
          "text": [
            "--2023-06-28 16:12:37--  https://storage.googleapis.com/inspirit-ai-data-bucket-1/Data/AI%20Scholars/Sessions%206%20-%2010%20(Projects)/Project%20-%20Fake%20News%20Detection/inspirit_fake_news_resources%20(1).zip\n",
            "Resolving storage.googleapis.com (storage.googleapis.com)... 172.217.204.128, 172.217.203.128, 172.253.123.128, ...\n",
            "Connecting to storage.googleapis.com (storage.googleapis.com)|172.217.204.128|:443... connected.\n",
            "HTTP request sent, awaiting response... 200 OK\n",
            "Length: 109422100 (104M) [application/zip]\n",
            "Saving to: ‘data.zip’\n",
            "\n",
            "data.zip            100%[===================>] 104.35M   196MB/s    in 0.5s    \n",
            "\n",
            "2023-06-28 16:12:38 (196 MB/s) - ‘data.zip’ saved [109422100/109422100]\n",
            "\n",
            "Archive:  data.zip\n",
            "replace train_val_data.pkl? [y]es, [n]o, [A]ll, [N]one, [r]ename: y\n",
            "  inflating: train_val_data.pkl      \n",
            "replace test_data.pkl? [y]es, [n]o, [A]ll, [N]one, [r]ename: y\n",
            "  inflating: test_data.pkl           \n"
          ]
        }
      ]
    },
    {
      "cell_type": "markdown",
      "metadata": {
        "id": "8x4L6VvhR6wp"
      },
      "source": [
        "## Exercise 1\n",
        "\n",
        "Below we introduce some code for taking our training and val data and producing X, y examples that can be fit by a logistic regression model. This code extracts a few basic features from the domain name extension of the website. **Your task: add features testing whether the domain name ends in \".co\", \".tv\", and \".news\", according to the template below.**\n"
      ]
    },
    {
      "cell_type": "code",
      "metadata": {
        "id": "VgG3BG3mh8r_"
      },
      "source": [
        "def prepare_data(data, featurizer):\n",
        "    X = []\n",
        "    y = []\n",
        "    for datapoint in data:\n",
        "        url, html, label = datapoint\n",
        "        # We convert all text in HTML to lowercase, so <p>Hello.</p> is mapped to\n",
        "        # <p>hello</p>. This will help us later when we extract features from\n",
        "        # the HTML, as we will be able to rely on the HTML being lowercase.\n",
        "        html = html.lower()\n",
        "        y.append(label)\n",
        "\n",
        "        features = featurizer(url, html)\n",
        "\n",
        "        # Gets the keys of the dictionary as descriptions, gets the values\n",
        "        # as the numerical features. Don't worry about exactly what zip does!\n",
        "        feature_descriptions, feature_values = zip(*features.items())\n",
        "\n",
        "        X.append(feature_values)\n",
        "\n",
        "    return X, y, feature_descriptions\n",
        "\n",
        "# Returns a dictionary mapping from plaintext feature descriptions to numerical\n",
        "# features for a (url, html) pair.\n",
        "def domain_featurizer(url, html):\n",
        "    features = {}\n",
        "\n",
        "    # Binary features for the domain name extension.\n",
        "    features['.com domain'] = url.endswith('.com')\n",
        "    features['.org domain'] = url.endswith('.org')\n",
        "    features['.net domain'] = url.endswith('.net')\n",
        "    features['.info domain'] = url.endswith('.info')\n",
        "    features['.biz domain'] = url.endswith('.biz')\n",
        "    features['.ru domain'] = url.endswith('.ru')\n",
        "    features['.co.uk domain'] = url.endswith('.co.uk')\n",
        "\n",
        "    ### YOUR CODE HERE ###\n",
        "    features['.co domain'] = url.endswith('.co')\n",
        "    features['.tv domain'] = url.endswith('.tv')\n",
        "    features['.news domain'] = url.endswith('.news')\n",
        "    features['.edu domain'] = url.endswith('.edu')\n",
        "    features['.media domain'] = url.endswith('.media')\n",
        "    features['.press domain'] = url.endswith('.press')\n",
        "    features['.gov domain'] = url.endswith('.gov')\n",
        "    ### END CODE HERE ###\n",
        "\n",
        "    return features"
      ],
      "execution_count": null,
      "outputs": []
    },
    {
      "cell_type": "markdown",
      "metadata": {
        "id": "RncfRR2uzNxg"
      },
      "source": [
        "## Instructor-Led Discussion: Deciding Inputs to our Model\n",
        "\n",
        "Make sure you understand what the code above is doing. It produces X, y such that X contains a list of features for each site in the dataset, and y contains the labels in corresponding order. *feature_descriptions* is a list of the names of features (.e.g., '.com domain'). This will be important later when we want to know the names of features when interpreting the model. Let's run our code for processing the data on the train and val sets from yesterday.\n",
        "\n"
      ]
    },
    {
      "cell_type": "markdown",
      "metadata": {
        "id": "8zgoSqkV97WY"
      },
      "source": [
        "## Exercise 2"
      ]
    },
    {
      "cell_type": "markdown",
      "metadata": {
        "id": "HdPBd5429-Sk"
      },
      "source": [
        "\n",
        "<b>Your task:</b>\n",
        "1. Initialize your `X_train`, `y_train`, and `feature_descriptions` variables by passing `train_data` and `domain_featurizer` into the `prepare_data()` function.\n",
        "2. Initialize your `X_val`, `y_val`, and `feature_descriptions` variables by passing `val_data` and `domain_featurizer` into the `prepare_data()` function."
      ]
    },
    {
      "cell_type": "code",
      "metadata": {
        "id": "DN6_-ViTeCYF",
        "colab": {
          "base_uri": "https://localhost:8080/"
        },
        "outputId": "35ab068f-cebb-44e9-8481-b80fbedcc50c"
      },
      "source": [
        "with open(os.path.join(basepath, 'train_val_data.pkl'), 'rb') as f:\n",
        "  train_data, val_data = pickle.load(f)\n",
        "\n",
        "print('Number of train examples:', len(train_data))\n",
        "print('Number of val examples:', len(val_data))\n",
        "\n",
        "### YOUR CODE HERE ###\n",
        "# Process train data\n",
        "X_train, y_train, feature_descriptions = prepare_data(train_data, domain_featurizer)\n",
        "\n",
        "# Process val data\n",
        "X_val, y_val, _ = prepare_data(val_data, domain_featurizer)\n",
        "\n",
        "### END CODE HERE ###\n",
        "\n",
        "print('Number of features per example:', len(X_train[0]))\n",
        "print('Feature descriptions:')\n",
        "print(feature_descriptions)"
      ],
      "execution_count": null,
      "outputs": [
        {
          "output_type": "stream",
          "name": "stdout",
          "text": [
            "Number of train examples: 2002\n",
            "Number of val examples: 309\n",
            "Number of features per example: 14\n",
            "Feature descriptions:\n",
            "('.com domain', '.org domain', '.net domain', '.info domain', '.biz domain', '.ru domain', '.co.uk domain', '.co domain', '.tv domain', '.news domain', '.edu domain', '.media domain', '.press domain', '.gov domain')\n"
          ]
        }
      ]
    },
    {
      "cell_type": "markdown",
      "metadata": {
        "id": "vSeQLoyT-Avf"
      },
      "source": [
        "Now to train on our featurized data. We'll use the `scikit-learn` library as we've done so far in the program, because it makes it easy to quickly iterate on different types of models.\n"
      ]
    },
    {
      "cell_type": "markdown",
      "metadata": {
        "id": "MA0H-ezT3A3-"
      },
      "source": [
        "\n",
        "## Exercise 3\n"
      ]
    },
    {
      "cell_type": "markdown",
      "metadata": {
        "id": "78LVe7ql-DSv"
      },
      "source": [
        "Another quick exercise: load the `LogisticRegression` model from `scikit-learn` with default parameters (no arguments to the constructor). Then fit it on `X_train` and `y_train` (~5 minutes)."
      ]
    },
    {
      "cell_type": "code",
      "metadata": {
        "id": "U2Xqs6b0eTgQ",
        "colab": {
          "base_uri": "https://localhost:8080/",
          "height": 75
        },
        "outputId": "365b6617-09bb-4ebc-f307-166e1f077b60"
      },
      "source": [
        "### YOUR CODE HERE ###\n",
        "from sklearn.linear_model import LogisticRegression\n",
        "baseline_model = LogisticRegression()\n",
        "baseline_model.fit(X_train, y_train)\n",
        "### END CODE HERE ###"
      ],
      "execution_count": null,
      "outputs": [
        {
          "output_type": "execute_result",
          "data": {
            "text/plain": [
              "LogisticRegression()"
            ],
            "text/html": [
              "<style>#sk-container-id-1 {color: black;background-color: white;}#sk-container-id-1 pre{padding: 0;}#sk-container-id-1 div.sk-toggleable {background-color: white;}#sk-container-id-1 label.sk-toggleable__label {cursor: pointer;display: block;width: 100%;margin-bottom: 0;padding: 0.3em;box-sizing: border-box;text-align: center;}#sk-container-id-1 label.sk-toggleable__label-arrow:before {content: \"▸\";float: left;margin-right: 0.25em;color: #696969;}#sk-container-id-1 label.sk-toggleable__label-arrow:hover:before {color: black;}#sk-container-id-1 div.sk-estimator:hover label.sk-toggleable__label-arrow:before {color: black;}#sk-container-id-1 div.sk-toggleable__content {max-height: 0;max-width: 0;overflow: hidden;text-align: left;background-color: #f0f8ff;}#sk-container-id-1 div.sk-toggleable__content pre {margin: 0.2em;color: black;border-radius: 0.25em;background-color: #f0f8ff;}#sk-container-id-1 input.sk-toggleable__control:checked~div.sk-toggleable__content {max-height: 200px;max-width: 100%;overflow: auto;}#sk-container-id-1 input.sk-toggleable__control:checked~label.sk-toggleable__label-arrow:before {content: \"▾\";}#sk-container-id-1 div.sk-estimator input.sk-toggleable__control:checked~label.sk-toggleable__label {background-color: #d4ebff;}#sk-container-id-1 div.sk-label input.sk-toggleable__control:checked~label.sk-toggleable__label {background-color: #d4ebff;}#sk-container-id-1 input.sk-hidden--visually {border: 0;clip: rect(1px 1px 1px 1px);clip: rect(1px, 1px, 1px, 1px);height: 1px;margin: -1px;overflow: hidden;padding: 0;position: absolute;width: 1px;}#sk-container-id-1 div.sk-estimator {font-family: monospace;background-color: #f0f8ff;border: 1px dotted black;border-radius: 0.25em;box-sizing: border-box;margin-bottom: 0.5em;}#sk-container-id-1 div.sk-estimator:hover {background-color: #d4ebff;}#sk-container-id-1 div.sk-parallel-item::after {content: \"\";width: 100%;border-bottom: 1px solid gray;flex-grow: 1;}#sk-container-id-1 div.sk-label:hover label.sk-toggleable__label {background-color: #d4ebff;}#sk-container-id-1 div.sk-serial::before {content: \"\";position: absolute;border-left: 1px solid gray;box-sizing: border-box;top: 0;bottom: 0;left: 50%;z-index: 0;}#sk-container-id-1 div.sk-serial {display: flex;flex-direction: column;align-items: center;background-color: white;padding-right: 0.2em;padding-left: 0.2em;position: relative;}#sk-container-id-1 div.sk-item {position: relative;z-index: 1;}#sk-container-id-1 div.sk-parallel {display: flex;align-items: stretch;justify-content: center;background-color: white;position: relative;}#sk-container-id-1 div.sk-item::before, #sk-container-id-1 div.sk-parallel-item::before {content: \"\";position: absolute;border-left: 1px solid gray;box-sizing: border-box;top: 0;bottom: 0;left: 50%;z-index: -1;}#sk-container-id-1 div.sk-parallel-item {display: flex;flex-direction: column;z-index: 1;position: relative;background-color: white;}#sk-container-id-1 div.sk-parallel-item:first-child::after {align-self: flex-end;width: 50%;}#sk-container-id-1 div.sk-parallel-item:last-child::after {align-self: flex-start;width: 50%;}#sk-container-id-1 div.sk-parallel-item:only-child::after {width: 0;}#sk-container-id-1 div.sk-dashed-wrapped {border: 1px dashed gray;margin: 0 0.4em 0.5em 0.4em;box-sizing: border-box;padding-bottom: 0.4em;background-color: white;}#sk-container-id-1 div.sk-label label {font-family: monospace;font-weight: bold;display: inline-block;line-height: 1.2em;}#sk-container-id-1 div.sk-label-container {text-align: center;}#sk-container-id-1 div.sk-container {/* jupyter's `normalize.less` sets `[hidden] { display: none; }` but bootstrap.min.css set `[hidden] { display: none !important; }` so we also need the `!important` here to be able to override the default hidden behavior on the sphinx rendered scikit-learn.org. See: https://github.com/scikit-learn/scikit-learn/issues/21755 */display: inline-block !important;position: relative;}#sk-container-id-1 div.sk-text-repr-fallback {display: none;}</style><div id=\"sk-container-id-1\" class=\"sk-top-container\"><div class=\"sk-text-repr-fallback\"><pre>LogisticRegression()</pre><b>In a Jupyter environment, please rerun this cell to show the HTML representation or trust the notebook. <br />On GitHub, the HTML representation is unable to render, please try loading this page with nbviewer.org.</b></div><div class=\"sk-container\" hidden><div class=\"sk-item\"><div class=\"sk-estimator sk-toggleable\"><input class=\"sk-toggleable__control sk-hidden--visually\" id=\"sk-estimator-id-1\" type=\"checkbox\" checked><label for=\"sk-estimator-id-1\" class=\"sk-toggleable__label sk-toggleable__label-arrow\">LogisticRegression</label><div class=\"sk-toggleable__content\"><pre>LogisticRegression()</pre></div></div></div></div></div>"
            ]
          },
          "metadata": {},
          "execution_count": 4
        }
      ]
    },
    {
      "cell_type": "markdown",
      "metadata": {
        "id": "WchEBxFeA46-"
      },
      "source": [
        "## Exercise 4\n",
        "\n"
      ]
    },
    {
      "cell_type": "code",
      "metadata": {
        "id": "xv_PHkE6346w",
        "colab": {
          "base_uri": "https://localhost:8080/"
        },
        "outputId": "0f325ca3-e836-49d3-c29c-faecf272b0b7"
      },
      "source": [
        "y_train_pred = baseline_model.predict(X_train)\n",
        "print('Train accuracy', accuracy_score(y_train, y_train_pred))"
      ],
      "execution_count": null,
      "outputs": [
        {
          "output_type": "stream",
          "name": "stdout",
          "text": [
            "Train accuracy 0.6238761238761239\n"
          ]
        }
      ]
    },
    {
      "cell_type": "markdown",
      "metadata": {
        "id": "ylD5OWTZoCz2"
      },
      "source": [
        "We can see that we are not doing very well, but we are doing better than 50%. We can do the same for the val data to see how we are doing on unseen data, which is more valuable for us if we want to make predictions on new websites. Fill in the code below to evaluate val accuracy!"
      ]
    },
    {
      "cell_type": "code",
      "metadata": {
        "id": "MUsF1H8uiN2g",
        "colab": {
          "base_uri": "https://localhost:8080/"
        },
        "outputId": "3f25f32d-c76b-4f3b-8fb0-0955b1e1174f"
      },
      "source": [
        "### YOUR CODE HERE ###\n",
        "y_val_pred = baseline_model.predict(X_val)\n",
        "### END CODE HERE ###\n",
        "print('Val accuracy', accuracy_score(y_val, y_val_pred))"
      ],
      "execution_count": null,
      "outputs": [
        {
          "output_type": "stream",
          "name": "stdout",
          "text": [
            "Val accuracy 0.5533980582524272\n"
          ]
        }
      ]
    },
    {
      "cell_type": "markdown",
      "metadata": {
        "id": "Hq6sGGVHobjo"
      },
      "source": [
        "We appear to be doing a bit worse on the val data, not much better than chance. To better understand the performance of our binary classification model, we should seek to better understand the mistakes that it is making. Specifically, when our model makes a mistake (about 40% of the time), are these mistakes false negatives or false positives?"
      ]
    },
    {
      "cell_type": "markdown",
      "metadata": {
        "id": "0A_HLeiz9IlH"
      },
      "source": [
        "## Confusion Matrix"
      ]
    },
    {
      "cell_type": "markdown",
      "metadata": {
        "id": "VeWbCvMa8rhg"
      },
      "source": [
        "To answer these questions, we produce and analyze the confusion matrix. The confusion matrix is a matrix that shows the following:\n",
        "\n",
        "![Confusion Matrix](https://miro.medium.com/max/860/1*7EcPtd8DXu1ObPnZSukIdQ.png)\n",
        "\n",
        "where the terms mean\n",
        "\n",
        "* TN (True Negative) = You predicted negative (real in our case, since real has a label of 0) and it’s true.\n",
        "* FP (False Positive) = You predicted positive and it’s false.\n",
        "* TP (True Positive) = You predicted positive (fake in our case, since fake has a label of 1) and it’s true.\n",
        "* FN (False Negative) = You predicted negative and it’s false.\n",
        "\n",
        "\n",
        "###Common Metrics\n",
        "\n",
        "From the confusion matrix, we can extract commonly used metrics like precision (TP/(TP + FP)) and recall (TP/(TP + FN)).\n",
        "\n",
        "* Precision quantifies how often the things we classify as positive are actually positive. For our task, this measures what fraction of the sites we classify as fake are actually fake.\n",
        "* Recall quantifies what fraction of actually positive examples we classify as positive. In our case, this is the fraction of fake news websites that we actually identify as fake.\n",
        "\n",
        "Finally, a useful score to summarize both precision and recall is the F-1 score. This is just a simple function (the harmonic mean) of precision and recall, shown in the summary below:\n",
        "\n",
        "<img src=\"https://datascience103579984.files.wordpress.com/2019/04/capture3-24.png\" width=\"400\" height=\"200\"></img>"
      ]
    },
    {
      "cell_type": "markdown",
      "metadata": {
        "id": "pftTwsCvE8Lt"
      },
      "source": [
        "##Exercise 5 |  Using the Confusion Matrix"
      ]
    },
    {
      "cell_type": "markdown",
      "metadata": {
        "id": "tc9BxsQ-GYOo"
      },
      "source": [
        "Next, let's evaluate the performance of our model. We can visualize statistics on the number of correct and incorrect predictions using a confusion matrix."
      ]
    },
    {
      "cell_type": "code",
      "source": [
        "#@title Run this code to create the confusion matrix. { display-mode: \"form\" }\n",
        "#@markdown If you are curious how it works you may double-click to inspect the code.\n",
        "\n",
        "# Import the metrics class\n",
        "from sklearn import metrics\n",
        "import pandas as pd\n",
        "import seaborn as sns\n",
        "import matplotlib.pyplot as plt\n",
        "\n",
        "# Create the Confusion Matrix\n",
        "cnf_matrix = metrics.confusion_matrix(y_val, y_val_pred)\n",
        "\n",
        "# Visualizing the Confusion Matrix\n",
        "class_names = [0,1] # Our diagnosis categories\n",
        "\n",
        "fig, ax = plt.subplots()\n",
        "# Setting up and visualizing the plot (do not worry about the code below!)\n",
        "tick_marks = np.arange(len(class_names))\n",
        "plt.xticks(tick_marks, class_names)\n",
        "plt.yticks(tick_marks, class_names)\n",
        "sns.heatmap(pd.DataFrame(cnf_matrix), annot=True, cmap=\"YlGnBu\" ,fmt='g') # Creating heatmap\n",
        "ax.xaxis.set_label_position(\"top\")\n",
        "plt.tight_layout()\n",
        "plt.title('Confusion matrix', y = 1.1)\n",
        "plt.ylabel('Actual Labels')\n",
        "plt.xlabel('Predicted Labels')"
      ],
      "metadata": {
        "id": "WbjoV1x3rojr",
        "colab": {
          "base_uri": "https://localhost:8080/",
          "height": 569
        },
        "outputId": "bd14ca14-1f75-4c72-a423-5722d7b0b968"
      },
      "execution_count": null,
      "outputs": [
        {
          "output_type": "execute_result",
          "data": {
            "text/plain": [
              "Text(0.5, 427.9555555555555, 'Predicted Labels')"
            ]
          },
          "metadata": {},
          "execution_count": 7
        },
        {
          "output_type": "display_data",
          "data": {
            "text/plain": [
              "<Figure size 640x480 with 2 Axes>"
            ],
            "image/png": "[encoded data removed]"
          },
          "metadata": {}
        }
      ]
    },
    {
      "cell_type": "markdown",
      "metadata": {
        "id": "q5Of0ZHsHZ0C"
      },
      "source": [
        "A Confusion Matrix can quickly tell you how well your model is doing. The primary way to figure this out is to calculate the Error Rate.\n",
        "\n",
        "The Error Rate is:   (FP) + (FN)) / (TP + FP + FN + TN).\n",
        "\n",
        "This is just all the false predictions (False Negative + False Positive) divided by all the predictions added together.\n",
        "\n",
        "Use the Confusion Matrix we just created to calculate the Error Rate for our model."
      ]
    },
    {
      "cell_type": "markdown",
      "metadata": {
        "id": "1ac9XXM9XsU0"
      },
      "source": [
        "## Exercise 6"
      ]
    },
    {
      "cell_type": "code",
      "metadata": {
        "id": "gVxJhwhzspF-",
        "colab": {
          "base_uri": "https://localhost:8080/"
        },
        "outputId": "c44a26e4-f758-4704-c1f0-e967953ee92c"
      },
      "source": [
        "print(y_val_pred)"
      ],
      "execution_count": null,
      "outputs": [
        {
          "output_type": "stream",
          "name": "stdout",
          "text": [
            "[0 0 0 0 0 0 0 0 1 1 0 0 0 0 0 0 0 0 0 0 0 1 0 0 0 0 1 1 0 0 0 1 0 0 0 0 1\n",
            " 0 0 0 0 0 0 0 0 0 0 0 0 0 0 0 0 0 0 1 0 0 0 0 0 0 1 0 0 1 0 0 0 0 0 0 0 0\n",
            " 0 0 0 0 1 0 0 0 0 0 0 1 1 0 1 1 0 1 0 0 0 1 1 0 0 1 1 0 1 0 0 0 0 0 0 0 0\n",
            " 1 0 0 0 0 0 0 0 0 0 0 0 0 0 1 1 0 0 0 0 0 0 0 0 1 0 1 0 0 0 1 0 0 0 1 0 0\n",
            " 0 0 0 1 0 0 0 0 0 0 0 0 0 0 0 0 0 0 0 0 0 0 0 0 0 0 0 0 0 0 1 0 0 0 0 0 1\n",
            " 0 1 0 0 0 1 0 1 0 0 0 0 0 0 0 0 0 0 0 1 0 1 0 0 1 0 0 0 0 0 1 0 1 1 1 0 0\n",
            " 0 0 0 0 0 0 0 0 1 0 0 0 0 0 0 0 0 1 0 0 0 0 0 0 1 1 0 0 0 0 1 0 1 0 0 0 0\n",
            " 0 1 1 0 0 0 0 0 0 0 0 0 0 0 0 0 0 0 0 0 1 0 0 0 1 0 0 1 0 0 1 0 0 1 0 0 0\n",
            " 0 0 0 0 0 1 0 0 0 0 0 0 0]\n"
          ]
        }
      ]
    },
    {
      "cell_type": "markdown",
      "metadata": {
        "id": "nh-qi0tvGvFH"
      },
      "source": [
        "We can see that we have many false negatives, and not as many false positives. Why is this the case? If we print out `y_val_pred`, we can see that our model is mostly predicting 0's (websites are real)."
      ]
    },
    {
      "cell_type": "markdown",
      "metadata": {
        "id": "fa5GCh7eG7OU"
      },
      "source": [
        "What fraction of predictions in `y_val_pred` are 1's? Hint: you may find `np.mean` useful."
      ]
    },
    {
      "cell_type": "code",
      "metadata": {
        "id": "pStoI4cLfKDv",
        "colab": {
          "base_uri": "https://localhost:8080/"
        },
        "outputId": "61df5e24-b125-4f0f-f7fa-2133d67e071d"
      },
      "source": [
        "### YOUR CODE HERE ###\n",
        "print(np.mean(y_val_pred))\n",
        "### END CODE HERE ###"
      ],
      "execution_count": null,
      "outputs": [
        {
          "output_type": "stream",
          "name": "stdout",
          "text": [
            "0.1779935275080906\n"
          ]
        }
      ]
    },
    {
      "cell_type": "markdown",
      "metadata": {
        "id": "eQdhOeigtmCp"
      },
      "source": [
        "Why so many 0's? The only information we are giving our model is its domain name extension. It's natural that the model would learn that websites with \".biz\" extensions are unlikely to be reliable news websites, but it is still the case that most websites in the dataset (fake and real) have \".com\" extensions. Thus, our model will misclassify many fake news websites with \".com\" extensions as real."
      ]
    },
    {
      "cell_type": "code",
      "metadata": {
        "id": "tHQTv6L98uno",
        "colab": {
          "base_uri": "https://localhost:8080/"
        },
        "outputId": "2a4b5d0c-8c11-40d6-ea9a-68a2af55cf4a"
      },
      "source": [
        "prf = precision_recall_fscore_support(y_val, y_val_pred)\n",
        "\n",
        "print('Precision:', prf[0][1])\n",
        "print('Recall:', prf[1][1])\n",
        "print('F-Score:', prf[2][1])"
      ],
      "execution_count": null,
      "outputs": [
        {
          "output_type": "stream",
          "name": "stdout",
          "text": [
            "Precision: 0.5272727272727272\n",
            "Recall: 0.20567375886524822\n",
            "F-Score: 0.29591836734693877\n"
          ]
        }
      ]
    },
    {
      "cell_type": "markdown",
      "metadata": {
        "id": "vw9xDPTsruaB"
      },
      "source": [
        "Again, the precision and recall metrics suggest that when we classify a website as fake, we are usually right, but we are not doing great at classifying these websites as fake frequently enough."
      ]
    },
    {
      "cell_type": "markdown",
      "metadata": {
        "id": "vyJC74B7ALAy"
      },
      "source": [
        "##Using Keywords for a Stronger Baseline"
      ]
    },
    {
      "cell_type": "markdown",
      "metadata": {
        "id": "_3lY7pMkAPpX"
      },
      "source": [
        "The key problem with our model in its current state is that it simply does not have enough information. This should not be a surprise–it was pretty unlikely in the first place that domain name extensions would be enough. If you like, feel free to add a few more extensions in the “featurizer” above and re-run all the code for evaluation–you'll find it doesn't make much of a difference.\n",
        "Where can we get more information about webpages? From the HTML! Remember that the HTML contains all of the text and structure of a webpage. If we cleverly choose features from the HTML to feed into our logistic regression model, we will drastically improve our performance. We saw yesterday that probing hypotheses related to the counts of hypotheses words produced interesting results, and we will continue in this direction today to produce a model that leverages these differences in word frequencies.\n"
      ]
    },
    {
      "cell_type": "markdown",
      "metadata": {
        "id": "TyRp6ooJAnng"
      },
      "source": [
        "## Exercise 7: Instructor-Led Discussion on Better Input Features\n"
      ]
    },
    {
      "cell_type": "markdown",
      "metadata": {
        "id": "L4jjZ5HF35K0"
      },
      "source": [
        "\n",
        "The below code introduces a better featurizer that counts the number of keywords (normalized using the *log* function) in the HTML. Normalizing the counts is a trick that prevents the featurized values from becoming too extreme. Read the code and make sure you understand what it is doing. Then add \"sports\" and \"finance\" as additional keywords to expand our model.\n",
        "\n",
        "**Run the below code and discuss what it is doing as a class. Add in additional keywords to further expand our model as you see fit.**\n",
        "\n",
        "\n",
        "\n"
      ]
    },
    {
      "cell_type": "code",
      "metadata": {
        "id": "eeyWAqI9idZ0"
      },
      "source": [
        "# Gets the log count of a phrase/keyword in HTML (transforming the phrase/keyword\n",
        "# to lowercase).\n",
        "def get_normalized_count(html, phrase):\n",
        "    return math.log(1 + html.count(phrase.lower()))\n",
        "\n",
        "# Returns a dictionary mapping from plaintext feature descriptions to numerical\n",
        "# features for a (url, html) pair.\n",
        "def keyword_featurizer(url, html):\n",
        "    features = {}\n",
        "\n",
        "    # Same as before.\n",
        "    features['.com domain'] = url.endswith('.com')\n",
        "    features['.org domain'] = url.endswith('.org')\n",
        "    features['.net domain'] = url.endswith('.net')\n",
        "    features['.biz domain'] = url.endswith('.biz')\n",
        "    features['.ru domain'] = url.endswith('.ru')\n",
        "    features['.co.uk domain'] = url.endswith('.co.uk')\n",
        "    features['.co domain'] = url.endswith('.co')\n",
        "    features['.news domain'] = url.endswith('.news')\n",
        "    features['.edu domain'] = url.endswith('.edu')\n",
        "    features['.media domain'] = url.endswith('.media')\n",
        "    features['.tv domain'] = url.endswith('.tv')\n",
        "    features['.press domain'] = url.endswith('.press')\n",
        "    features['.info domain'] = url.endswith('.info')\n",
        "\n",
        "    ### YOUR CODE HERE ###\n",
        "    keywords = ['sports', 'finance', 'tech', 'business', 'politics', 'science',\n",
        "                'entertainment', 'health', 'travel', 'weather', 'Trump', 'Russia',\n",
        "                'Hillary', 'Obama', 'Clinton', 'NBA', 'NFL', 'MLB', 'NHL', 'NASCAR',\n",
        "                'Social media', 'Facebook', 'Twitter', 'YouTube', 'Google', 'Apple',\n",
        "                'Gaming', 'Amazon', 'Netflix', 'YouTube', 'Google', 'Apple', 'Amazon',\n",
        "                'Space', 'NASA', 'Cryptocurrency', 'Bitcoin', 'Ethereum', 'Art',\n",
        "                'Music', 'Movies', 'Medicine', 'Automotive', ' Startups', 'Artificial intelligence',\n",
        "                'Climate change', 'Stock market', 'Fashion', 'Fast food', 'Food',\n",
        "                'Food delivery', 'Food delivery apps', 'Food delivery services',\n",
        "                'Education', 'Opinion', 'Covid', 'Coronavirus', 'COVID-19']\n",
        "    ### END CODE HERE\n",
        "\n",
        "    for keyword in keywords:\n",
        "      features[keyword + ' keyword'] = get_normalized_count(html, keyword)\n",
        "\n",
        "    return features"
      ],
      "execution_count": null,
      "outputs": []
    },
    {
      "cell_type": "markdown",
      "metadata": {
        "id": "sk_BBflEAuX3"
      },
      "source": [
        "##Exercise 8"
      ]
    },
    {
      "cell_type": "markdown",
      "metadata": {
        "id": "bgWx3s7UxDue"
      },
      "source": [
        "\n",
        "\n",
        "Let's run and evaluate the above featurizer. Add in code to fit the model, compute train accuracy, val accuracy, val confusion matrix, and val precision, recall, and F1-Score, just as before."
      ]
    },
    {
      "cell_type": "code",
      "metadata": {
        "id": "fxEIPqn1f1iQ",
        "colab": {
          "base_uri": "https://localhost:8080/"
        },
        "outputId": "6217ff11-028c-4f77-cc6b-8bc470a92e8a"
      },
      "source": [
        "from sklearn.metrics import accuracy_score, confusion_matrix, classification_report\n",
        "\n",
        "X_train, y_train, feature_descriptions = prepare_data(train_data, keyword_featurizer)\n",
        "X_val, y_val, feature_descriptions = prepare_data(val_data, keyword_featurizer)\n",
        "\n",
        "print('Number of features per example:', len(X_train[0]))\n",
        "print('Feature descriptions:')\n",
        "print(feature_descriptions)\n",
        "print()\n",
        "\n",
        "baseline_model = LogisticRegression()\n",
        "\n",
        "### YOUR CODE HERE ###\n",
        "baseline_model.fit(X_train, y_train)\n",
        "\n",
        "# Predict labels for train and val data\n",
        "y_train_pred = baseline_model.predict(X_train)\n",
        "y_val_pred = baseline_model.predict(X_val)\n",
        "\n",
        "# Compute train accuracy\n",
        "train_accuracy = accuracy_score(y_train, y_train_pred)\n",
        "print('Train accuracy:', train_accuracy)\n",
        "\n",
        "# Compute val accuracy\n",
        "val_accuracy = accuracy_score(y_val, y_val_pred)\n",
        "print('Val accuracy:', val_accuracy)\n",
        "\n",
        "# Compute val confusion matrix\n",
        "confusion_mat = confusion_matrix(y_val, y_val_pred)\n",
        "print('Val Confusion Matrix:')\n",
        "print(confusion_mat)\n",
        "\n",
        "# Compute val precision, recall, and F1-Score\n",
        "classification_rep = classification_report(y_val, y_val_pred)\n",
        "print('Val Classification Report:')\n",
        "print(classification_rep)\n",
        "### END CODE HERE ###"
      ],
      "execution_count": null,
      "outputs": [
        {
          "output_type": "stream",
          "name": "stdout",
          "text": [
            "Number of features per example: 67\n",
            "Feature descriptions:\n",
            "('.com domain', '.org domain', '.net domain', '.biz domain', '.ru domain', '.co.uk domain', '.co domain', '.news domain', '.edu domain', '.media domain', '.tv domain', '.press domain', '.info domain', 'sports keyword', 'finance keyword', 'tech keyword', 'business keyword', 'politics keyword', 'science keyword', 'entertainment keyword', 'health keyword', 'travel keyword', 'weather keyword', 'Trump keyword', 'Russia keyword', 'Hillary keyword', 'Obama keyword', 'Clinton keyword', 'NBA keyword', 'NFL keyword', 'MLB keyword', 'NHL keyword', 'NASCAR keyword', 'Social media keyword', 'Facebook keyword', 'Twitter keyword', 'YouTube keyword', 'Google keyword', 'Apple keyword', 'Gaming keyword', 'Amazon keyword', 'Netflix keyword', 'Space keyword', 'NASA keyword', 'Cryptocurrency keyword', 'Bitcoin keyword', 'Ethereum keyword', 'Art keyword', 'Music keyword', 'Movies keyword', 'Medicine keyword', 'Automotive keyword', ' Startups keyword', 'Artificial intelligence keyword', 'Climate change keyword', 'Stock market keyword', 'Fashion keyword', 'Fast food keyword', 'Food keyword', 'Food delivery keyword', 'Food delivery apps keyword', 'Food delivery services keyword', 'Education keyword', 'Opinion keyword', 'Covid keyword', 'Coronavirus keyword', 'COVID-19 keyword')\n",
            "\n",
            "Train accuracy: 0.9120879120879121\n",
            "Val accuracy: 0.8932038834951457\n",
            "Val Confusion Matrix:\n",
            "[[150  18]\n",
            " [ 15 126]]\n",
            "Val Classification Report:\n",
            "              precision    recall  f1-score   support\n",
            "\n",
            "           0       0.91      0.89      0.90       168\n",
            "           1       0.88      0.89      0.88       141\n",
            "\n",
            "    accuracy                           0.89       309\n",
            "   macro avg       0.89      0.89      0.89       309\n",
            "weighted avg       0.89      0.89      0.89       309\n",
            "\n"
          ]
        },
        {
          "output_type": "stream",
          "name": "stderr",
          "text": [
            "/usr/local/lib/python3.10/dist-packages/sklearn/linear_model/_logistic.py:458: ConvergenceWarning: lbfgs failed to converge (status=1):\n",
            "STOP: TOTAL NO. of ITERATIONS REACHED LIMIT.\n",
            "\n",
            "Increase the number of iterations (max_iter) or scale the data as shown in:\n",
            "    https://scikit-learn.org/stable/modules/preprocessing.html\n",
            "Please also refer to the documentation for alternative solver options:\n",
            "    https://scikit-learn.org/stable/modules/linear_model.html#logistic-regression\n",
            "  n_iter_i = _check_optimize_result(\n"
          ]
        }
      ]
    },
    {
      "cell_type": "markdown",
      "metadata": {
        "id": "Pr29MWpbyHeA"
      },
      "source": [
        "We can see that we are doing dramatically better! The next section addresses how to know which of the above added features made the difference in improving the model."
      ]
    },
    {
      "cell_type": "markdown",
      "metadata": {
        "id": "1l9Jq6CzwWOt"
      },
      "source": [
        "## Interpreting our Model\n",
        "\n"
      ]
    },
    {
      "cell_type": "markdown",
      "metadata": {
        "id": "_hTNITBgB871"
      },
      "source": [
        "### Instructor-Led Discussion: Interpreting Input Variables"
      ]
    },
    {
      "cell_type": "markdown",
      "metadata": {
        "id": "43z3A67xB4Qu"
      },
      "source": [
        "As mentioned earlier, a key motivation for using a simpler model is interpretability.\n",
        "\n",
        "We've learned that the prediction of a logistic regression classifier is just the output of a multiplication with model weights, followed by a non-linear transformation (sigmoid). Because the sigmoid function is always increasing (monotonic) on its domain (see below), we know that if the dot product (or multiplication of vectors) between model weights and input features is large, then the output prediction will be closer to 1. If the dot product is small, then the output prediction will be closer to 0.\n",
        "\n",
        "![Sigmoid](https://cdn-images-1.medium.com/max/2400/1*RqXFpiNGwdiKBWyLJc_E7g.png)\n",
        "\n",
        "Thus, the weights corresponding to features tell us whether the features are important in the classification. If the weight corresponding to the feature \".net domain\" has a large positive value, then websites with \".net\" domains are more likely to be classified as fake (since fake has label 1). If it has a large negative value, then these websites are more likely to be classified as real. If it has value close to 0, then the feature may not be useful (at least, it may not be useful given that the other features are present).\n"
      ]
    },
    {
      "cell_type": "markdown",
      "metadata": {
        "id": "nqIKnF6fCgnP"
      },
      "source": [
        "###Using Feature Descriptions"
      ]
    },
    {
      "cell_type": "markdown",
      "metadata": {
        "id": "0G8LwtG2Cj9u"
      },
      "source": [
        "Let's see what weights our model learned. The code below uses *feature_descriptions* and the weights, or coefficients, of the model and sorts them in ascending order."
      ]
    },
    {
      "cell_type": "code",
      "metadata": {
        "id": "QHcJkqd4zic8",
        "colab": {
          "base_uri": "https://localhost:8080/"
        },
        "outputId": "a999e924-1a2a-4833-8150-fad88ba02c7d"
      },
      "source": [
        "sorted(zip(feature_descriptions, baseline_model.coef_[0].tolist()), key=lambda x: x[1])"
      ],
      "execution_count": null,
      "outputs": [
        {
          "output_type": "execute_result",
          "data": {
            "text/plain": [
              "[('.edu domain', -4.115486182720798),\n",
              " ('Apple keyword', -1.5484983767953355),\n",
              " ('.com domain', -1.5453377084530853),\n",
              " ('.org domain', -1.522307162421447),\n",
              " ('MLB keyword', -1.2425488795215944),\n",
              " ('Artificial intelligence keyword', -0.8279962702283634),\n",
              " ('finance keyword', -0.8020622649606486),\n",
              " ('Space keyword', -0.6222243742209221),\n",
              " ('Ethereum keyword', -0.5722453606767977),\n",
              " ('Education keyword', -0.558274018097148),\n",
              " ('entertainment keyword', -0.5022396480527129),\n",
              " ('Food keyword', -0.4164537799697298),\n",
              " ('science keyword', -0.38888107823147267),\n",
              " ('Opinion keyword', -0.358085969025634),\n",
              " ('Climate change keyword', -0.347563354031648),\n",
              " ('NASCAR keyword', -0.33938307800594714),\n",
              " ('Social media keyword', -0.3212670073868971),\n",
              " ('sports keyword', -0.2609245561707145),\n",
              " ('Art keyword', -0.2269870659219605),\n",
              " ('Trump keyword', -0.2265775880514729),\n",
              " ('Gaming keyword', -0.22565855105335555),\n",
              " ('Movies keyword', -0.21329160220028076),\n",
              " ('weather keyword', -0.201356256167496),\n",
              " ('Fashion keyword', -0.18235471053916005),\n",
              " ('travel keyword', -0.17385599473794572),\n",
              " (' Startups keyword', -0.1667600535078514),\n",
              " ('Netflix keyword', -0.1328346495455103),\n",
              " ('Twitter keyword', -0.05894801408201084),\n",
              " ('Food delivery services keyword', -0.04931818235783713),\n",
              " ('Automotive keyword', -0.0421729055866194),\n",
              " ('business keyword', -0.011321095690798257),\n",
              " ('politics keyword', -0.0091300696812669),\n",
              " ('Covid keyword', -0.0014453690542869995),\n",
              " ('Food delivery apps keyword', -8.228609869504933e-05),\n",
              " ('COVID-19 keyword', 0.0),\n",
              " ('Stock market keyword', 0.001744183593846091),\n",
              " ('.media domain', 0.015493148373800317),\n",
              " ('NBA keyword', 0.026160611646400708),\n",
              " ('.press domain', 0.03120760268376227),\n",
              " ('.biz domain', 0.04718995791264058),\n",
              " ('Music keyword', 0.05542253222652361),\n",
              " ('Coronavirus keyword', 0.06993443956843926),\n",
              " ('tech keyword', 0.08046416844530553),\n",
              " ('Cryptocurrency keyword', 0.09096989508376029),\n",
              " ('Clinton keyword', 0.11959319426700721),\n",
              " ('Fast food keyword', 0.13069703523668677),\n",
              " ('Facebook keyword', 0.14201990670928874),\n",
              " ('NHL keyword', 0.15845819790994775),\n",
              " ('Amazon keyword', 0.2398747464246862),\n",
              " ('NFL keyword', 0.3346323531407372),\n",
              " ('.ru domain', 0.3368782953513505),\n",
              " ('Medicine keyword', 0.3375117293975311),\n",
              " ('.co domain', 0.3725885615870983),\n",
              " ('health keyword', 0.3931109897730306),\n",
              " ('NASA keyword', 0.4398708745862857),\n",
              " ('YouTube keyword', 0.5148129987459841),\n",
              " ('Hillary keyword', 0.5985438221645603),\n",
              " ('Bitcoin keyword', 0.6232035829070909),\n",
              " ('Russia keyword', 0.6748605402040547),\n",
              " ('Food delivery keyword', 0.6922883996100826),\n",
              " ('.info domain', 0.7294212095116671),\n",
              " ('Google keyword', 0.8138132493794784),\n",
              " ('.tv domain', 0.9105383583670332),\n",
              " ('Obama keyword', 1.0418834605817735),\n",
              " ('.co.uk domain', 1.0547816979813023),\n",
              " ('.news domain', 1.231385595757967),\n",
              " ('.net domain', 2.0042831740098923)]"
            ]
          },
          "metadata": {},
          "execution_count": 25
        }
      ]
    },
    {
      "cell_type": "markdown",
      "metadata": {
        "id": "qfIAQeg5zpRL"
      },
      "source": [
        "## Exercise 9\n",
        "\n",
        "Answer the following questions:\n",
        "\n",
        "* What features have positive weight (most predictive of being fake)? What does that indicate?\n",
        "* Which ones have negative weight (most predictive of being real)? What does that indicate?\n",
        "* Which ones have close to 0 weight?\n",
        "* Are there any feature weights that surprise you?\n",
        "* Try coming up with explanations for why the feature weights are the way they are. Does this help you come up with new feature ideas? (~15 minutes)"
      ]
    },
    {
      "cell_type": "code",
      "metadata": {
        "id": "gnYk7Vp_YiSO",
        "colab": {
          "base_uri": "https://localhost:8080/",
          "height": 35
        },
        "outputId": "ac8ee32f-e006-4bd7-8bfb-f0166b616d97"
      },
      "source": [
        "'''\n",
        "YOUR ANSWERS TO QUESTIONS HERE\n",
        "'''"
      ],
      "execution_count": null,
      "outputs": [
        {
          "output_type": "execute_result",
          "data": {
            "text/plain": [
              "'\\nYOUR ANSWERS TO QUESTIONS HERE\\n'"
            ],
            "application/vnd.google.colaboratory.intrinsic+json": {
              "type": "string"
            }
          },
          "metadata": {},
          "execution_count": 26
        }
      ]
    },
    {
      "cell_type": "markdown",
      "metadata": {
        "id": "082Dut9agst6"
      },
      "source": [
        "## Instructor-Led Discussion: Final Interpretation of Inputs"
      ]
    },
    {
      "cell_type": "markdown",
      "metadata": {
        "id": "gfQvDlNAYjAa"
      },
      "source": [
        "##Exercise 10 |  Final Baseline\n",
        "\n",
        "Finally, play around with the last few cells, adding more keywords and domain names to see how the results change. Note that \"keywords\" can be a variety of things: English words, English phrases (spaces are allowed), HTML tags, and any other string present in HTML. Also notice how the weights on different features vary–you may observe some interesting effects. When you are done, run the cell below to run evaluations again!"
      ]
    },
    {
      "cell_type": "code",
      "metadata": {
        "id": "19rbiCbuP8iq",
        "colab": {
          "base_uri": "https://localhost:8080/"
        },
        "outputId": "7b74150b-49b0-46a6-a44c-269f6b496777"
      },
      "source": [
        "y_train_pred = baseline_model.predict(X_train)\n",
        "print('Train accuracy', accuracy_score(y_train, y_train_pred))\n",
        "\n",
        "y_val_pred = baseline_model.predict(X_val)\n",
        "print('Val accuracy', accuracy_score(y_val, y_val_pred))\n",
        "\n",
        "prf = precision_recall_fscore_support(y_val, y_val_pred)\n",
        "\n",
        "print('Precision:', prf[0][1])\n",
        "print('Recall:', prf[1][1])\n",
        "print('F-Score:', prf[2][1])"
      ],
      "execution_count": null,
      "outputs": [
        {
          "output_type": "stream",
          "name": "stdout",
          "text": [
            "Train accuracy 0.9120879120879121\n",
            "Val accuracy 0.8932038834951457\n",
            "Precision: 0.875\n",
            "Recall: 0.8936170212765957\n",
            "F-Score: 0.8842105263157894\n"
          ]
        }
      ]
    },
    {
      "cell_type": "code",
      "source": [
        "#@title Run this cell to create the confusion matrix. { display-mode: \"form\" }\n",
        "# Create the Confusion Matrix\n",
        "cnf_mat_2 = confusion_matrix(y_val, y_val_pred)\n",
        "\n",
        "# Visualizing the Confusion Matrix\n",
        "class_names = [0,1] # Our diagnosis categories\n",
        "\n",
        "fig, ax = plt.subplots()\n",
        "# Setting up and visualizing the plot (do not worry about the code below!)\n",
        "tick_marks = np.arange(len(class_names))\n",
        "plt.xticks(tick_marks, class_names)\n",
        "plt.yticks(tick_marks, class_names)\n",
        "sns.heatmap(pd.DataFrame(cnf_mat_2), annot=True, cmap=\"YlGnBu\" ,fmt='g') # Creating heatmap\n",
        "ax.xaxis.set_label_position(\"top\")\n",
        "plt.tight_layout()\n",
        "plt.title('Confusion matrix', y = 1.1)\n",
        "plt.ylabel('Actual Labels')\n",
        "plt.xlabel('Predicted Labels')"
      ],
      "metadata": {
        "id": "Hd1VBdDi2Hu4",
        "colab": {
          "base_uri": "https://localhost:8080/",
          "height": 569
        },
        "outputId": "7f8f25e1-3544-4142-85da-1a836941e8f8"
      },
      "execution_count": null,
      "outputs": [
        {
          "output_type": "execute_result",
          "data": {
            "text/plain": [
              "Text(0.5, 427.9555555555555, 'Predicted Labels')"
            ]
          },
          "metadata": {},
          "execution_count": 28
        },
        {
          "output_type": "display_data",
          "data": {
            "text/plain": [
              "<Figure size 640x480 with 2 Axes>"
            ],
            "image/png": "[encoded data removed]"
          },
          "metadata": {}
        }
      ]
    },
    {
      "cell_type": "markdown",
      "metadata": {
        "id": "U6aOTjSX0_yj"
      },
      "source": [
        "Congratulations on completing this notebook! Looking at the results of our final baseline, you may be surprised this approach is working at all–after all, our model is still barely looking at the content of websites. We will further explore the issue of modeling the content of websites tomorrow, but as a result of our efforts today, we now know that we can make progress with a relatively simple approach!"
      ]
    },
    {
      "cell_type": "code",
      "source": [],
      "metadata": {
        "id": "GF-0qIrOsmaZ"
      },
      "execution_count": null,
      "outputs": []
    }
  ]
}