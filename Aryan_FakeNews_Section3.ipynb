{
  "nbformat": 4,
  "nbformat_minor": 0,
  "metadata": {
    "colab": {
      "provenance": []
    },
    "language_info": {
      "codemirror_mode": {
        "name": "ipython",
        "version": 3
      },
      "file_extension": ".py",
      "mimetype": "text/x-python",
      "name": "python",
      "nbconvert_exporter": "python",
      "pygments_lexer": "ipython3",
      "version": "3.7.3"
    },
    "kernelspec": {
      "display_name": "Python 3",
      "language": "python",
      "name": "python3"
    }
  },
  "cells": [
    {
      "cell_type": "markdown",
      "metadata": {
        "id": "ghImXmSD00AL"
      },
      "source": [
        "# Day 3: Using Word Vectors for Fake News Classification\n",
        "\n",
        "Run the below cells to get started."
      ]
    },
    {
      "cell_type": "markdown",
      "metadata": {
        "id": "p6yXc9Z2KMGy"
      },
      "source": [
        "In this notebook we'll be:\n",
        "1.   Understanding Word Vectors\n",
        "2.   Understanding the Bag of Words Featurizer\n",
        "\n"
      ]
    },
    {
      "cell_type": "code",
      "metadata": {
        "id": "ewFL_vL20vMS"
      },
      "source": [
        "!pip install -U torchtext==0.15.2\n",
        "#@title Import Data { display-mode: \"form\" }\n",
        "import math\n",
        "import os\n",
        "import numpy as np\n",
        "from bs4 import BeautifulSoup as bs\n",
        "import requests\n",
        "from tqdm import tqdm\n",
        "from sklearn.feature_extraction.text import CountVectorizer\n",
        "from torchtext.vocab import GloVe\n",
        "\n",
        "import pickle\n",
        "\n",
        "import requests, io, zipfile\n",
        "!wget -O data.zip 'https://storage.googleapis.com/inspirit-ai-data-bucket-1/Data/AI%20Scholars/Sessions%206%20-%2010%20(Projects)/Project%20-%20Fake%20News%20Detection/inspirit_fake_news_resources%20(1).zip'\n",
        "!unzip data.zip\n",
        "\n",
        "#Temp getting glove vectors from another resource - Stanford server shutdown till July 4 2023\n",
        "!wget http://nlp.uoregon.edu/download/embeddings/glove.6B.300d.txt\n",
        "\n",
        "basepath = '.'\n",
        "\n",
        "from sklearn.linear_model import LogisticRegression\n",
        "from sklearn.metrics import precision_recall_fscore_support\n",
        "from sklearn.metrics import accuracy_score\n",
        "from sklearn.metrics import confusion_matrix\n",
        "\n",
        "with open(os.path.join(basepath, 'train_val_data.pkl'), 'rb') as f:\n",
        "  train_data, val_data = pickle.load(f)\n",
        "\n",
        "print('Number of train examples:', len(train_data))\n",
        "print('Number of val examples:', len(val_data))"
      ],
      "execution_count": null,
      "outputs": []
    },
    {
      "cell_type": "markdown",
      "metadata": {
        "id": "khlmTwTFQyFY"
      },
      "source": [
        "One potential source of information for websites is their descriptions (often called meta descriptions). These are descriptions embedded into the HTML of a webpage that describe what the website is about, so that search engines and other crawlers can use it to determine the content of a website. For example, here is the description for google.com, retrieved using the BeautifulSoup Python library for parsing HTML:"
      ]
    },
    {
      "cell_type": "code",
      "metadata": {
        "id": "49IV8jyXSbt5"
      },
      "source": [
        "def get_description_from_html(html):\n",
        "  soup = bs(html)\n",
        "  description_tag = soup.find('meta', attrs={'name':'og:description'}) or soup.find('meta', attrs={'property':'description'}) or soup.find('meta', attrs={'name':'description'})\n",
        "  if description_tag:\n",
        "    description = description_tag.get('content') or ''\n",
        "  else: # If there is no description, return empty string.\n",
        "    description = ''\n",
        "  return description\n",
        "\n",
        "def scrape_description(url):\n",
        "  if not url.startswith('http'):\n",
        "    url = 'http://' + url\n",
        "  response = requests.get(url, timeout=10)\n",
        "  html = response.text\n",
        "  description = get_description_from_html(html)\n",
        "  return description\n",
        "\n",
        "print('Description of Google.com:')\n",
        "print(scrape_description('google.com'))"
      ],
      "execution_count": null,
      "outputs": []
    },
    {
      "cell_type": "markdown",
      "metadata": {
        "id": "gGKIqXbcZyDX"
      },
      "source": [
        "## Scraping Website Descriptions\n",
        "\n",
        "Play around with the below demo (running the cell normally) to live scrape the descriptions of different websites using the code above. Do you notice anything interesting or unexpected? If so, share with the class. (~3 minutes)"
      ]
    },
    {
      "cell_type": "code",
      "metadata": {
        "id": "KYro0RPbY3hl"
      },
      "source": [
        "#@title Live Website Description Scraper { display-mode: \"both\" }\n",
        "\n",
        "url = \"youtube.com\" #@param {type:\"string\"}\n",
        "\n",
        "print('Description of %s:' % url)\n",
        "print(scrape_description(url))"
      ],
      "execution_count": null,
      "outputs": []
    },
    {
      "cell_type": "markdown",
      "metadata": {
        "id": "rUc1jWs1Smvx"
      },
      "source": [
        "### Bag-of-Words Model\n",
        "\n",
        "\n"
      ]
    },
    {
      "cell_type": "markdown",
      "metadata": {
        "id": "LurXHhf3KIoa"
      },
      "source": [
        "It is easy to retrieve the descriptions for the fake and real news websites in our dataset as well. What can we do with these? We can use the approach from the last notebook where we extract counts from the description for particular keywords and use these as features, but this would require us to manually select features that we think are important. What if our model automatically collected all of the most important keywords and added their counts for each website description to our feature vector? Our model could then learn feature weights for these words to help us correctly classify news websites.\n",
        "\n",
        "This approach of automatically featurizing the counts of words in text is called the bag-of-words model. This name comes from the fact that the features do not store the order of the words, rather just their counts."
      ]
    },
    {
      "cell_type": "markdown",
      "metadata": {
        "id": "TrZLFmRIKGBa"
      },
      "source": [
        "## Exercise\n",
        "\n",
        "Let's start by extracting the descriptions for the websites in our dataset. Use the helper function `get_description_from_html` defined above to extract all of the descriptions for the websites in the training data. The return value of the function should be a list of descriptions, in the same order as the sites in `train_data` (~10 minutes). Note that running the function will take a few minutes."
      ]
    },
    {
      "cell_type": "code",
      "metadata": {
        "id": "sBUllq_PSf_T"
      },
      "source": [
        "def get_descriptions_from_data(data):\n",
        "  # A dictionary mapping from url to description for the websites in\n",
        "  # train_data.\n",
        "  descriptions = []\n",
        "  for site in tqdm(data):\n",
        "    ### YOUR CODE HERE ###\n",
        "    url, html, label = site\n",
        "    descriptions.append(get_description_from_html(html))\n",
        "    ### END CODE ###\n",
        "  return descriptions\n",
        "\n",
        "\n",
        "train_descriptions = get_descriptions_from_data(train_data)\n",
        "train_urls = [url for (url, html, label) in train_data]\n",
        "\n",
        "print('\\nNYTimes Description:')\n",
        "print(train_descriptions[train_urls.index('nytimes.com')])"
      ],
      "execution_count": null,
      "outputs": []
    },
    {
      "cell_type": "markdown",
      "metadata": {
        "id": "yzdLW0Aya_iy"
      },
      "source": [
        "## Let's get our value desciptions!\n",
        "\n",
        "Once you have this working, call the `get_descriptions_from_data` for val to get `val_descriptions`."
      ]
    },
    {
      "cell_type": "code",
      "metadata": {
        "id": "mPuUgA39bO3f"
      },
      "source": [
        "val_descriptions = get_descriptions_from_data(val_data)"
      ],
      "execution_count": null,
      "outputs": []
    },
    {
      "cell_type": "markdown",
      "metadata": {
        "id": "pPFtoCqdPZxj"
      },
      "source": [
        "###Reading"
      ]
    },
    {
      "cell_type": "markdown",
      "metadata": {
        "id": "zwsmRW3vYPMj"
      },
      "source": [
        "We now have a bunch of descriptions for the websites in our training data. How do we map this to a meaningful feature representation? As suggested above, we use the approach of assigning each feature index a specific word from the descriptions, and the feature value for each site is just the count of that specific word in its description. This is just an automatic version of the keyword-based approach we used yesterday.\n",
        "\n",
        "How do we choose which words to include as features? We could include all of them, but this would give us a lot of features for words that don't show up often enough to be helpful. Instead, we choose the 300 most frequent words.\n",
        "\n",
        "Below, we use the `CountVectorizer` class from `scikit-learn` to do the heavy-lifting for us. We train it using just the train data (so it learns which are the 300 most frequent words in train only), and then we use to featurize both the train and val data.\n"
      ]
    },
    {
      "cell_type": "markdown",
      "metadata": {
        "id": "R2tc1a2yPeW0"
      },
      "source": [
        "## Exercise\n",
        "\n",
        "Fill in the last **two lines of code** that vectorizes the val data descriptions, using the train version for reference (~4 minutes). You should save the values to `bow_X_val` and `bow_y_val`."
      ]
    },
    {
      "cell_type": "code",
      "metadata": {
        "id": "iIuCXY6eigdL"
      },
      "source": [
        "vectorizer = CountVectorizer(max_features=300)\n",
        "\n",
        "vectorizer.fit(train_descriptions)\n",
        "\n",
        "def vectorize_data_descriptions(descriptions, vectorizer):\n",
        "  X = vectorizer.transform(descriptions).todense()\n",
        "  return X\n",
        "\n",
        "print('\\nPreparing train data...')\n",
        "bow_X_train = vectorize_data_descriptions(train_descriptions, vectorizer)\n",
        "bow_y_train = [label for url, html, label in train_data]\n",
        "\n",
        "print('\\nPreparing val data...')\n",
        "### YOUR CODE HERE ###\n",
        "bow_X_val = vectorize_data_descriptions(val_descriptions, vectorizer)\n",
        "bow_y_val = [label for url, html, label in val_data]\n",
        "### END CODE HERE ###\n",
        "bow_X_train, bow_X_val = np.array(bow_X_train), np.array(bow_X_val)"
      ],
      "execution_count": null,
      "outputs": []
    },
    {
      "cell_type": "markdown",
      "metadata": {
        "id": "urfxVL-MWzHW"
      },
      "source": [
        "Now we have all we need to test our bag-of-words featurization. Below, we want to use logistic regression, as before, combined with our `X_train` produced by `CountVectorizer` to train our fake news classification model. We also want to evaluate using our familiar metrics.\n",
        "\n",
        "## Exercise\n",
        "\n",
        "Fill in the code below that fits the model on `bow_X_train` and `bow_y_train` and outputs train accuracy, val accuracy, val confusion matrix, and val precision, recall, and F1-Score (~10 minutes)."
      ]
    },
    {
      "cell_type": "code",
      "metadata": {
        "id": "4ubB4hO7XHmT"
      },
      "source": [
        "model = LogisticRegression()\n",
        "\n",
        "### YOUR CODE HERE ###\n",
        "model.fit(bow_X_train, bow_y_train)\n",
        "\n",
        "bow_y_train_pred = model.predict(bow_X_train)\n",
        "print('Train accuracy', accuracy_score(bow_y_train, bow_y_train_pred))\n",
        "\n",
        "bow_y_val_pred = model.predict(bow_X_val)\n",
        "print('Val accuracy', accuracy_score(bow_y_val, bow_y_val_pred))\n",
        "\n",
        "print('Confusion matrix:')\n",
        "print(confusion_matrix(bow_y_val, bow_y_val_pred))\n",
        "\n",
        "prf = precision_recall_fscore_support(bow_y_val, bow_y_val_pred)\n",
        "\n",
        "print('Precision:', prf[0][1])\n",
        "print('Recall:', prf[1][1])\n",
        "print('F-Score:', prf[2][1])\n",
        "### END CODE HERE ###"
      ],
      "execution_count": null,
      "outputs": []
    },
    {
      "cell_type": "markdown",
      "metadata": {
        "id": "lXxFvJTbXT7S"
      },
      "source": [
        "Solid! You should be getting results roughly similar to what you got yesterday, which may be surprising since we are restricting ourselves to look only at the description of a website. The strength of our approach today is that the featurization is automatic–we didn't put any work into determining the features.\n",
        "\n",
        "You might be wondering how well a model that combines both our bag-of-words approach, our keywords approach, and our domain name extension approach does. We will implement combining our featurization approaches tomorrow! For now, let's explore another approach."
      ]
    },
    {
      "cell_type": "markdown",
      "metadata": {
        "id": "e8VLitfjkKZ6"
      },
      "source": [
        "## Modeling the Meaning of Websites using Word Vectors\n",
        "\n",
        "\n",
        "A shortcoming of our bag-of-words approach is that it only looks at the counts of words in the description for each website. What if we had some way of understanding the meaning of words in the description for each website?\n",
        "\n",
        "The idea of computationally extracting meaning from words is central to word vectors, which have become a cornerstone of modern deep learning on text. Word vectors are a mapping from words to vectors such that words that have similar meaning have similar word vectors.\n",
        "\n",
        "For example, the words \"good\" and \"great\" have similar word vectors, and the words \"good\" and \"planet\" have different word vectors. Thus, word vectors provide us a way to account for the meanings of words with our machine learning models.\n",
        "\n",
        "Run the below cell to load our word vectors, which come from a model called \"GloVe\".\n",
        "\n"
      ]
    },
    {
      "cell_type": "code",
      "metadata": {
        "id": "lIww33eRkucs"
      },
      "source": [
        "VEC_SIZE = 300\n",
        "glove = GloVe(name='6B', dim=VEC_SIZE)\n",
        "\n",
        "# Returns word vector for word if it exists, else return None.\n",
        "def get_word_vector(word):\n",
        "    try:\n",
        "      return glove.vectors[glove.stoi[word.lower()]].numpy()\n",
        "    except KeyError:\n",
        "      return None"
      ],
      "execution_count": null,
      "outputs": []
    },
    {
      "cell_type": "markdown",
      "metadata": {
        "id": "05fcNrWgZcxC"
      },
      "source": [
        "We've included a handy helper function which retrieves the word vector for a word.\n",
        "\n",
        "## Exercise\n",
        "\n",
        "Let's retrieve the word vector for \"good\" using the above `get_word_vector` function (~30 seconds)."
      ]
    },
    {
      "cell_type": "code",
      "metadata": {
        "id": "gtFyejI_mrGn"
      },
      "source": [
        "### YOUR CODE HERE ###\n",
        "good_vector = get_word_vector('good')\n",
        "### END CODE HERE ###\n",
        "\n",
        "print('Shape of good vector:', good_vector.shape)\n",
        "print(good_vector)"
      ],
      "execution_count": null,
      "outputs": []
    },
    {
      "cell_type": "markdown",
      "metadata": {
        "id": "JVIt9A5bO-S0"
      },
      "source": [
        "### Reading"
      ]
    },
    {
      "cell_type": "markdown",
      "metadata": {
        "id": "TXL5UubKaeDB"
      },
      "source": [
        "Not too much to see here–each word vector is a vector of 300 numbers, and it's hard to interpret them from looking at the numbers. Remember that the important property of word vectors is that words with similar meaning have similar word vectors. The magic happens when we compare word vectors.\n",
        "\n",
        "Below, we have set up a demo where we compare the word vectors for two words using a comparison metric known as cosine similarity. Intuitively, cosine similarity measures the extent to which two vectors point in the same direction. You might be familiar with the fact that the cosine similarity between two vectors is the same as the cosine of the angle between the two vectors–ranging between -1 and 1. -1 means that two vectors are facing opposite directions, 0 means that they are perpendicular, and 1 means that they are facing the same direction.\n"
      ]
    },
    {
      "cell_type": "markdown",
      "metadata": {
        "id": "bBA15HjvN4I-"
      },
      "source": [
        "## Comparing Word Similarities\n",
        "\n",
        "Try running the below to compare the vectors for \"good\" and \"great\", and then try other words, like \"planet\". **What do you notice that's expected and unexpected? Play around for a couple of minutes then discuss as a class.**\n",
        "\n",
        "Note that the demo runs automatically when you change either `word1` or `word2`."
      ]
    },
    {
      "cell_type": "code",
      "metadata": {
        "id": "hZz6rcIncU7l"
      },
      "source": [
        "#@title Word Similarity { run: \"auto\", display-mode: \"both\" }\n",
        "\n",
        "def cosine_similarity(vec1, vec2):\n",
        "  return np.dot(vec1, vec2) / (np.linalg.norm(vec1) * np.linalg.norm(vec2))\n",
        "\n",
        "word1 = \"good\" #@param {type:\"string\"}\n",
        "word2 = \"great\" #@param {type:\"string\"}\n",
        "\n",
        "print('Word 1:', word1)\n",
        "print('Word 2:', word2)\n",
        "\n",
        "def cosine_similarity_of_words(word1, word2):\n",
        "  vec1 = get_word_vector(word1)\n",
        "  vec2 = get_word_vector(word2)\n",
        "\n",
        "  if vec1 is None:\n",
        "    print(word1, 'is not a valid word. Try another.')\n",
        "  if vec2 is None:\n",
        "    print(word2, 'is not a valid word. Try another.')\n",
        "  if vec1 is None or vec2 is None:\n",
        "    return None\n",
        "\n",
        "  return cosine_similarity(vec1, vec2)\n",
        "\n",
        "\n",
        "print('\\nCosine similarity:', cosine_similarity_of_words(word1, word2))\n"
      ],
      "execution_count": null,
      "outputs": []
    },
    {
      "cell_type": "markdown",
      "metadata": {
        "id": "Yb6vzQX0O18k"
      },
      "source": [
        "### Reading"
      ]
    },
    {
      "cell_type": "markdown",
      "metadata": {
        "id": "GKlczvl58vTy"
      },
      "source": [
        "We can see that word embeddings appear to capture the meaning of different words–when two words are similar, the cosine similarity score is higher, and when two words are dissimilar, the cosine similarity score is lower.\n",
        "\n",
        "Word vectors are created by going over a large body of text (the vectors you are using were trained on Wikipedia in part) and noticing which words tend to occur near each-other. If word A tends to co-occur with similar words as word B, then the word vectors for words A and B are mathematically constrained to be similar. If you want to learn more about an algorithm for training word vectors, see this [helpful introduction to word2vec](https://towardsdatascience.com/introduction-to-word-embedding-and-word2vec-652d0c2060fa).\n",
        "\n",
        "Given word vectors that represent the meaning of words, what can we do with this? We can add word vectors to our feature vector, but which do we choose? It turns out that a solid approach is just to average the word vectors for all the words in the description. Averaging word vectors produces a natural way to produce vectors for sentences and other collections of words, and this is the approach we will use."
      ]
    },
    {
      "cell_type": "markdown",
      "metadata": {
        "id": "l21_Y_V3Aq_F"
      },
      "source": [
        "## Exercise\n",
        "\n",
        "We want to write a function that takes a list of descriptions and turns it into an array containing the average GloVe vector for each description. **Understand the code below and then increment `found_words` and add `vec` to `X[i].`**"
      ]
    },
    {
      "cell_type": "code",
      "metadata": {
        "id": "ED-sLpV_n_Zm"
      },
      "source": [
        "def glove_transform_data_descriptions(descriptions):\n",
        "    X = np.zeros((len(descriptions), VEC_SIZE))\n",
        "    for i, description in enumerate(descriptions):\n",
        "        found_words = 0.0\n",
        "        description = description.strip()\n",
        "        for word in description.split():\n",
        "            vec = get_word_vector(word)\n",
        "            if vec is not None:\n",
        "                ### YOUR CODE HERE ###\n",
        "                # Increment found_words and add vec to X[i].\n",
        "                found_words += 1\n",
        "                X[i] += vec\n",
        "                ### END CODE HERE ###\n",
        "        # We divide the sum by the number of words added, so we have the\n",
        "        # average word vector.\n",
        "        if found_words > 0:\n",
        "            X[i] /= found_words\n",
        "\n",
        "    return X\n",
        "\n",
        "glove_X_train = glove_transform_data_descriptions(train_descriptions)\n",
        "glove_y_train = [label for (url, html, label) in train_data]\n",
        "\n",
        "glove_X_val = glove_transform_data_descriptions(val_descriptions)\n",
        "glove_y_val = [label for (url, html, label) in val_data]\n",
        "\n"
      ],
      "execution_count": null,
      "outputs": []
    },
    {
      "cell_type": "markdown",
      "metadata": {
        "id": "GHXCrVToBQ63"
      },
      "source": [
        "## Exercise\n",
        "\n",
        "Then, we can evaluate our approach as we have in the past. As before, fill in the code for fitting and evaluation (~8 minutes)."
      ]
    },
    {
      "cell_type": "code",
      "metadata": {
        "id": "IpgEviIPoOhx"
      },
      "source": [
        "import seaborn as sns\n",
        "import matplotlib.pyplot as plt\n",
        "\n",
        "model = LogisticRegression()\n",
        "### YOUR CODE HERE ###\n",
        "model.fit(glove_X_train, glove_y_train)\n",
        "\n",
        "glove_y_train_pred = model.predict(glove_X_train)\n",
        "print('Train accuracy', accuracy_score(glove_y_train, glove_y_train_pred))\n",
        "\n",
        "glove_y_val_pred = model.predict(glove_X_val)\n",
        "print('Validation accuracy', accuracy_score(glove_y_val, glove_y_val_pred))\n",
        "\n",
        "confusion_mat = confusion_matrix(glove_y_val, glove_y_val_pred)\n",
        "\n",
        "prf = precision_recall_fscore_support(glove_y_val, glove_y_val_pred)\n",
        "\n",
        "print('Precision:', prf[0][1])\n",
        "print('Recall:', prf[1][1])\n",
        "print('F-Score:', prf[2][1])\n",
        "\n",
        "# Create a heatmap visualization of the confusion matrix with larger font size\n",
        "plt.figure(figsize=(8, 6))\n",
        "sns.set(font_scale=1.5)  # Adjust the font scale for larger text\n",
        "sns.heatmap(confusion_mat, annot=True, fmt='d', cmap='Blues')\n",
        "plt.xlabel('Predicted labels')\n",
        "plt.ylabel('True labels')\n",
        "plt.title('Confusion Matrix', fontsize=16)  # Increase the font size for the title\n",
        "\n",
        "# Save the confusion matrix as an image file with larger font size\n",
        "plt.figure(figsize=(8, 6))\n",
        "sns.set(font_scale=1.5)  # Adjust the font scale for larger text\n",
        "sns.heatmap(confusion_mat, annot=True, fmt='d', cmap='Blues', linewidths=2.5, linecolor='orange')\n",
        "plt.xlabel('Actual Values')\n",
        "plt.ylabel('Predicted Values')\n",
        "plt.title('Confusion Matrix', fontsize=16)  # Increase the font size for the title\n",
        "plt.savefig('confusion_matrix.png', dpi = 500)\n"
      ],
      "execution_count": null,
      "outputs": []
    },
    {
      "cell_type": "code",
      "source": [],
      "metadata": {
        "id": "WP5W9QMNDBWh"
      },
      "execution_count": null,
      "outputs": []
    },
    {
      "cell_type": "markdown",
      "metadata": {
        "id": "bnIwqSqHDBwD"
      },
      "source": [
        "We can see that we again get solid results using a different approach. Each approach is encoding different information about websites, and so we would expect that combining them together would produce even better results."
      ]
    },
    {
      "cell_type": "markdown",
      "metadata": {
        "id": "8zaqWxvcFuzv"
      },
      "source": [
        "## Exercise\n",
        "\n",
        "Complete the `train_and_evaluate_model` function, which trains and evaluates a logistic regression model given `X_train`, `y_train`, `X_val`, and `y_val`. Print train accuracy, val accuracy, confusion matrix, precision, recall, and F1-score, just as we have been doing the past few days (~7 minutes)."
      ]
    },
    {
      "cell_type": "code",
      "metadata": {
        "id": "dfiW8_VaF-_c"
      },
      "source": [
        "def train_model(X_train, y_train, X_val, y_val):\n",
        "  model = LogisticRegression(solver='liblinear')\n",
        "  model.fit(X_train, y_train)\n",
        "\n",
        "  return model\n",
        "\n",
        "\n",
        "def train_and_evaluate_model(X_train, y_train, X_val, y_val):\n",
        "  model = train_model(X_train, y_train, X_val, y_val)\n",
        "\n",
        "  ### YOUR CODE HERE ###\n",
        "\n",
        "  y_train_pred = model.predict(X_train)\n",
        "  print('Train accuracy', accuracy_score(y_train, y_train_pred))\n",
        "\n",
        "  y_val_pred = model.predict(X_val)\n",
        "  print('Val accuracy', accuracy_score(y_val, y_val_pred))\n",
        "\n",
        "  print('Confusion matrix:')\n",
        "  print(confusion_matrix(y_val, y_val_pred))\n",
        "\n",
        "  prf = precision_recall_fscore_support(y_val, y_val_pred)\n",
        "\n",
        "  print('Precision:', prf[0][1])\n",
        "  print('Recall:', prf[1][1])\n",
        "  print('F-Score:', prf[2][1])\n",
        "\n",
        "  ### END CODE HERE ###\n",
        "\n",
        "  return model"
      ],
      "execution_count": null,
      "outputs": []
    },
    {
      "cell_type": "markdown",
      "metadata": {
        "id": "CGynL44dGCRz"
      },
      "source": [
        "### Review of story so far\n",
        "\n",
        "Our first approach to featurizing our data involved looking only at URLs, specifically domain name extensions. We discovered that this achieved about 60% accuracy, with many false negatives for fake news websites with an innocuous domain name extension like \".com\". This accuracy wasn't great, but it gave us a baseline to improve upon.\n",
        "\n",
        "We next moved on to keyword-based featurization, which combined the above domain name extension features with normalized counts (extracted from HTML) for a list of specific words."
      ]
    },
    {
      "cell_type": "markdown",
      "metadata": {
        "id": "ATqwCXq2GPOV"
      },
      "source": [
        "\n",
        "## Exercise\n",
        "\n",
        "Given the functions for featurizing data before and our new helper function `train_and_evaluate_model`, train and evaluate a model on top of keyword (combined with domain name extension) featurization (~8 minutes)."
      ]
    },
    {
      "cell_type": "code",
      "metadata": {
        "id": "xILtPatkGRHh"
      },
      "source": [
        "def prepare_data(data, featurizer):\n",
        "    X = []\n",
        "    y = []\n",
        "    for datapoint in data:\n",
        "        url, html, label = datapoint\n",
        "        # We convert all text in HTML to lowercase, so <p>Hello.</p> is mapped to\n",
        "        # <p>hello</p>. This will help us later when we extract features from\n",
        "        # the HTML, as we will be able to rely on the HTML being lowercase.\n",
        "        html = html.lower()\n",
        "        y.append(label)\n",
        "\n",
        "        features = featurizer(url, html)\n",
        "\n",
        "        # Gets the keys of the dictionary as descriptions, gets the values\n",
        "        # as the numerical features. Don't worry about exactly what zip does!\n",
        "        feature_descriptions, feature_values = zip(*features.items())\n",
        "\n",
        "        X.append(feature_values)\n",
        "\n",
        "    return X, y, feature_descriptions\n",
        "\n",
        "# Gets the log count of a phrase/keyword in HTML (transforming the phrase/keyword\n",
        "# to lowercase).\n",
        "def get_normalized_count(html, phrase):\n",
        "    return math.log(1 + html.count(phrase.lower()))\n",
        "\n",
        "# Returns a dictionary mapping from plaintext feature descriptions to numerical\n",
        "# features for a (url, html) pair.\n",
        "def keyword_featurizer(url, html):\n",
        "    features = {}\n",
        "\n",
        "    # Same as before.\n",
        "    features['.com domain'] = url.endswith('.com')\n",
        "    features['.org domain'] = url.endswith('.org')\n",
        "    features['.net domain'] = url.endswith('.net')\n",
        "    features['.info domain'] = url.endswith('.info')\n",
        "    features['.org domain'] = url.endswith('.org')\n",
        "    features['.biz domain'] = url.endswith('.biz')\n",
        "    features['.ru domain'] = url.endswith('.ru')\n",
        "    features['.co.uk domain'] = url.endswith('.co.uk')\n",
        "    features['.co domain'] = url.endswith('.co')\n",
        "    features['.tv domain'] = url.endswith('.tv')\n",
        "    features['.news domain'] = url.endswith('.news')\n",
        "\n",
        "    keywords = ['trump', 'biden', 'clinton', 'sports', 'finance']\n",
        "\n",
        "    for keyword in keywords:\n",
        "      features[keyword + ' keyword'] = get_normalized_count(html, keyword)\n",
        "\n",
        "    return features\n",
        "\n",
        "\n",
        "### YOUR CODE HERE ###\n",
        "keyword_X_train, y_train, _ = prepare_data(train_data, keyword_featurizer)\n",
        "keyword_X_val, y_val, _ = prepare_data(val_data, keyword_featurizer)\n",
        "\n",
        "train_and_evaluate_model(keyword_X_train, y_train, keyword_X_val, y_val)\n",
        "### END CODE HERE ###"
      ],
      "execution_count": null,
      "outputs": []
    },
    {
      "cell_type": "markdown",
      "metadata": {
        "id": "N2gWWDunGZsZ"
      },
      "source": [
        "We can see that we are achieving significantly better accuracy and better balance between false negatives and false positives. As expected, it looks like actually making use of the content of the HTML is useful.\n",
        "\n",
        "Another way to take advantage of the HTML is to extract a bag-of-words (BOW) featurization from the meta description stored in the HTML.\n",
        "\n",
        "## Bag of Words featurization\n",
        "\n",
        "## Exercise\n",
        "\n",
        "As before, train and evaluate this approach with our helper function `train_and_evaluate_model` (~5 minutes)."
      ]
    },
    {
      "cell_type": "code",
      "metadata": {
        "id": "51Lj90wPGfYG"
      },
      "source": [
        "vectorizer = CountVectorizer(max_features=300)\n",
        "\n",
        "vectorizer.fit(train_descriptions)\n",
        "\n",
        "def vectorize_data_descriptions(data_descriptions, vectorizer):\n",
        "  X = vectorizer.transform(data_descriptions).todense()\n",
        "  return X\n",
        "\n",
        "### YOUR CODE HERE ###\n",
        "\n",
        "# Note that you can use y_train and y_val from before, since these are the\n",
        "# same for both the keyword approach and the BOW approach.\n",
        "\n",
        "bow_X_train = vectorize_data_descriptions(train_descriptions, vectorizer)\n",
        "bow_X_val = vectorize_data_descriptions(val_descriptions, vectorizer)\n",
        "bow_X_train, bow_X_val = np.array(bow_X_train), np.array(bow_X_val)\n",
        "\n",
        "train_and_evaluate_model(bow_X_train, y_train, bow_X_val, y_val)\n",
        "\n",
        "### END CODE HERE ###"
      ],
      "execution_count": null,
      "outputs": []
    },
    {
      "cell_type": "markdown",
      "metadata": {
        "id": "-mAbl_A0GjvG"
      },
      "source": [
        "We can see that we are getting similar results, without necessarily using the same information as the keywords-based approach. We then asked whether we could do better by making use of word vectors, which encode the meaning of different words. We found that averaging the word vectors for words in the meta description was a useful approach.\n",
        "\n",
        "## Exercise\n",
        "\n",
        "As before, review the approach and complete the code for training and evaluation (~5 minutes)."
      ]
    },
    {
      "cell_type": "code",
      "metadata": {
        "id": "oBIDv7B-Goyg"
      },
      "source": [
        "VEC_SIZE = 300\n",
        "glove = GloVe(name='6B', dim=VEC_SIZE)\n",
        "\n",
        "# Returns word vector for word if it exists, else return None.\n",
        "def get_word_vector(word):\n",
        "    try:\n",
        "      return glove.vectors[glove.stoi[word.lower()]].numpy()\n",
        "    except KeyError:\n",
        "      return None\n",
        "\n",
        "def glove_transform_data_descriptions(descriptions):\n",
        "    X = np.zeros((len(descriptions), VEC_SIZE))\n",
        "    for i, description in enumerate(descriptions):\n",
        "        found_words = 0.0\n",
        "        description = description.strip()\n",
        "        for word in description.split():\n",
        "            vec = get_word_vector(word)\n",
        "            if vec is not None:\n",
        "                ### YOUR CODE HERE ###\n",
        "                # Increment found_words and add vec to X[i].\n",
        "                found_words += 1\n",
        "                X[i] += vec\n",
        "                ### END CODE HERE ###\n",
        "        # We divide the sum by the number of words added, so we have the\n",
        "        # average word vector.\n",
        "        if found_words > 0:\n",
        "            X[i] /= found_words\n",
        "\n",
        "    return X\n",
        "\n",
        "\n",
        "### YOUR CODE HERE ###\n",
        "\n",
        "# Note that you can use y_train and y_val from before, since these are the\n",
        "# same for both the keyword approach and the BOW approach.\n",
        "\n",
        "glove_X_train = glove_transform_data_descriptions(train_descriptions)\n",
        "glove_X_val = glove_transform_data_descriptions(val_descriptions)\n",
        "\n",
        "train_and_evaluate_model(glove_X_train, y_train, glove_X_val, y_val)\n",
        "\n",
        "\n",
        "### END CODE HERE ###"
      ],
      "execution_count": null,
      "outputs": []
    },
    {
      "cell_type": "markdown",
      "metadata": {
        "id": "UsZiH04uGtSC"
      },
      "source": [
        "Again, solid results using a completely different approach.\n",
        "\n",
        "### Combining Approaches\n",
        "\n",
        "A natural question to ask now is whether we can combine the above featurization approaches for improved results. It turns out we can, by concatenating the feature vectors for each website produced using each of the three above approaches. Below we provide a handy helper function that takes in a list of multiple `X_train` produced using different featurization approaches (e.g., [`keyword_X_train`, `bow_X_train`, `glove_X_train`]) and combines them into *combined_X_train*. It can do this for X_val as well.\n",
        "\n",
        "As an example, if our keyword-based approach has 15 features, our BOW approach has 300, and our GloVe approach has 300, then our combined approach has 615 features.\n"
      ]
    },
    {
      "cell_type": "markdown",
      "metadata": {
        "id": "yIyk8GsmHOtC"
      },
      "source": [
        "## Exercise\n",
        "\n",
        "Complete the below code for training and evaluating the combined approach (~8 minutes)."
      ]
    },
    {
      "cell_type": "code",
      "metadata": {
        "id": "tKqmpMy8IExP"
      },
      "source": [
        "def combine_features(X_list):\n",
        "  return np.concatenate(X_list, axis=1)\n",
        "\n",
        "### YOUR CODE HERE ###\n",
        "# First, produce combined_X_train and combined_X_val using 2 calls to\n",
        "# combine_features, using keyword_X_train, bow_X_train, glove_X_train\n",
        "# and keyword_X_val, bow_X_val, glove_X_val from before.\n",
        "\n",
        "combined_X_train = combine_features([keyword_X_train, bow_X_train, glove_X_train])\n",
        "combined_X_val = combine_features([keyword_X_val, bow_X_val, glove_X_val])\n",
        "\n",
        "model = train_and_evaluate_model(combined_X_train, y_train, combined_X_val, y_val)\n",
        "\n",
        "### END CODE HERE ###"
      ],
      "execution_count": null,
      "outputs": []
    },
    {
      "cell_type": "markdown",
      "metadata": {
        "id": "KZlqslCAIISn"
      },
      "source": [
        "## Exercise\n",
        "\n",
        "Now, make changes to the keyword, BOW, and GloVe featurization code above to improve performance. For example, add keywords to the keyword featurization code, play around with different values for `max_features` and other parameters for [CountVectorizer](https://scikit-learn.org/stable/modules/generated/sklearn.feature_extraction.text.CountVectorizer.html), and try summing instead of averaging word vectors (~15 minutes).\n",
        "\n",
        "## Exercise\n",
        "\n",
        "Once you feel satisfied with your results, play around with the below demo, which scrapes a new website live and runs your trained classification model on it! The below code assumes you have run the code above and have not changed the names of any of the featurization functions. It combines the three featurization approaches. Go through the code below and make sure you understand what it is doing! Feel free to also make changes (e.g. if you only want to use two featurization approaches) (~15 minutes). Note that output is shown below the `curr_url` field."
      ]
    },
    {
      "cell_type": "code",
      "metadata": {
        "id": "y0pttvKMIPfq"
      },
      "source": [
        "#@title Live Fake News Classification Demo { run: \"auto\", vertical-output: true, display-mode: \"both\" }\n",
        "def get_data_pair(url):\n",
        "  if not url.startswith('http'):\n",
        "      url = 'http://' + url\n",
        "  url_pretty = url\n",
        "  if url_pretty.startswith('http://'):\n",
        "      url_pretty = url_pretty[7:]\n",
        "  if url_pretty.startswith('https://'):\n",
        "      url_pretty = url_pretty[8:]\n",
        "\n",
        "  # Scrape website for HTML\n",
        "  response = requests.get(url, timeout=10)\n",
        "  htmltext = response.text\n",
        "\n",
        "  return url_pretty, htmltext\n",
        "\n",
        "curr_url = \"www.yahoo.com\" #@param {type:\"string\"}\n",
        "\n",
        "url, html = get_data_pair(curr_url)\n",
        "\n",
        "# Call on the output of *keyword_featurizer* or something similar\n",
        "# to transform it into a format that allows for concatenation. See\n",
        "# example below.\n",
        "def dict_to_features(features_dict):\n",
        "  X = np.array(list(features_dict.values())).astype('float')\n",
        "  X = X[np.newaxis, :]\n",
        "  return X\n",
        "def featurize_data_pair(url, html):\n",
        "  # Approach 1.\n",
        "  keyword_X = dict_to_features(keyword_featurizer(url, html))\n",
        "  # Approach 2.\n",
        "  description = get_description_from_html(html)\n",
        "\n",
        "  bow_X = vectorize_data_descriptions([description], vectorizer)\n",
        "\n",
        "  # Approach 3.\n",
        "  glove_X = glove_transform_data_descriptions([description])\n",
        "\n",
        "  X = combine_features([keyword_X, bow_X, glove_X])\n",
        "\n",
        "  return X\n",
        "\n",
        "curr_X = np.array(featurize_data_pair(url, html))\n",
        "\n",
        "model = train_model(combined_X_train, y_train, combined_X_val, y_val)\n",
        "\n",
        "curr_y = model.predict(curr_X)[0]\n",
        "\n",
        "\n",
        "if curr_y < .5:\n",
        "  print(curr_url, 'appears to be real.')\n",
        "else:\n",
        "  print(curr_url, 'appears to be fake.')"
      ],
      "execution_count": null,
      "outputs": []
    },
    {
      "cell_type": "markdown",
      "metadata": {
        "id": "N5gVcrIYIVpR"
      },
      "source": [
        "## Exercise\n",
        "\n",
        "After playing around with your model live, do you have any ideas for how to improve it?\n",
        "\n",
        "1. Write down three ideas for how to improve it.\n",
        "\n",
        "2. Then, the make changes above and see what impact they have on the final model.\n",
        "\n",
        "Once you are done, we will provide code to test your model on the test data. Note that you should only run on the test data once. When you have results on the test data, share with your instructor, as the team with the best results will be rewarded!"
      ]
    },
    {
      "cell_type": "code",
      "metadata": {
        "id": "KI57EINPIjcU"
      },
      "source": [
        "with open(os.path.join(basepath, 'test_data.pkl'), 'rb') as f:\n",
        "  test_data = pickle.load(f)\n",
        "\n",
        "model = train_model(combined_X_train, y_train, combined_X_val, y_val)\n",
        "\n",
        "print('Loading test data...')\n",
        "test_X = []\n",
        "for url, html, label in test_data:\n",
        "  curr_X = np.array(featurize_data_pair(url, html))\n",
        "  test_X.append(curr_X[0])\n",
        "\n",
        "test_X = np.array(test_X)\n",
        "\n",
        "test_y = [label for url, html, label in test_data]\n",
        "\n",
        "print('Done loading test data...')\n",
        "\n",
        "test_y_pred = model.predict(test_X)\n",
        "\n",
        "print('Test accuracy', accuracy_score(test_y, test_y_pred))\n",
        "\n",
        "print('Confusion matrix:')\n",
        "print(confusion_matrix(test_y, test_y_pred))\n",
        "\n",
        "prf = precision_recall_fscore_support(test_y, test_y_pred)\n",
        "\n",
        "print('Precision:', prf[0][1])\n",
        "print('Recall:', prf[1][1])\n",
        "print('F-Score:', prf[2][1])\n",
        "\n",
        "### END CODE HERE ###"
      ],
      "execution_count": null,
      "outputs": []
    },
    {
      "cell_type": "markdown",
      "metadata": {
        "id": "B93DXnu8Ik0S"
      },
      "source": [
        "A huge congratulations on completing the project!"
      ]
    }
  ]
}